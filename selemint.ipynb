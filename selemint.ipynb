{
 "cells": [
  {
   "cell_type": "code",
   "execution_count": 1,
   "metadata": {},
   "outputs": [],
   "source": [
    "import copy\n",
    "import random\n",
    "\n",
    "from get_data import get_data\n",
    "from blocks import init_blocks, calc_factors, get_block_stat, get_block_penalty\n",
    "from students import init_students, calc_weights, get_students_penalty, update_students, get_p0_students, get_students_stat, get_students_for_module\n",
    "from planner import get_try, list_results"
   ]
  },
  {
   "cell_type": "code",
   "execution_count": 4,
   "metadata": {},
   "outputs": [],
   "source": [
    "blocks = get_data('data/blocks.json')\n",
    "students_tmp = get_data('data/priorities.json')\n",
    "specials = get_data('data/specials.json')\n",
    "\n",
    "N_blocks = len(blocks)\n",
    "N_students = len(students_tmp)\n",
    "N_tries = 10\n",
    "\n",
    "init_blocks(blocks)\n",
    "\n",
    "students = init_students(students_tmp, blocks)\n",
    "\n",
    "calc_factors(blocks)\n",
    "\n",
    "calc_weights(students, N_blocks)\n",
    "\n",
    "best_blocks = []\n",
    "\n",
    "for block_nr in range(1, N_blocks+1):\n",
    "    best_block = get_try(blocks[str(block_nr)], block_nr, students, specials[str(block_nr)])\n",
    "    block_penalty = get_block_penalty(best_block, block_nr, students)\n",
    "    students_penalty = get_students_penalty(students, block_nr)\n",
    "    penalty = block_penalty + students_penalty\n",
    "\n",
    "    for i in range(N_tries):\n",
    "        try_block = get_try(blocks[str(block_nr)], block_nr, students, specials[str(block_nr)])\n",
    "        block_penalty_try = get_block_penalty(try_block, block_nr, students)\n",
    "        students_penalty_try = get_students_penalty(students, block_nr)\n",
    "        penalty_try = block_penalty_try + students_penalty_try\n",
    "\n",
    "        # if block_penalty_next < block_penalty:\n",
    "        #     try_block = try_block_next\n",
    "        #     block_penalty = block_penalty_next\n",
    "            \n",
    "        if penalty_try < penalty:\n",
    "            best_block = try_block\n",
    "            block_penalty = block_penalty_try\n",
    "            students_penalty = students_penalty_try\n",
    "            penalty = penalty_try\n",
    "            \n",
    "    update_students(best_block, block_nr, students)\n",
    "\n",
    "    best_blocks.append(best_block)\n"
   ]
  },
  {
   "cell_type": "code",
   "execution_count": 14,
   "metadata": {},
   "outputs": [
    {
     "name": "stdout",
     "output_type": "stream",
     "text": [
      "block 5: p1: 36.5%, p2: 43.3%, p3: 14.6%, p0: 5.6%\n",
      "Oberflächen und Farben: 10/20, p1: 30.0% (60.0%), p2: 50.0% (300.0%), p3: 20.0% (330.0%), p0: 0.0%\n",
      "Fourier-Reihen: 3/20, p1: 66.7% (200.0%), p2: 0.0% (533.3%), p3: 33.3% (666.7%), p0: 0.0%\n",
      "Datenexploration: 19/20, p1: 47.4% (57.9%), p2: 36.8% (100.0%), p3: 10.5% (115.8%), p0: 5.3%\n",
      "Astrophysik, Planetologie und Raumfahrt: 20/20, p1: 50.0% (155.0%), p2: 40.0% (220.0%), p3: 10.0% (135.0%), p0: 0.0%\n",
      "Molekulare Schalter – eine on/off-Beziehung: 12/12, p1: 8.3% (50.0%), p2: 75.0% (325.0%), p3: 16.7% (175.0%), p0: 0.0%\n",
      "Let's Arduino: 11/12, p1: 27.3% (36.4%), p2: 54.5% (190.9%), p3: 0.0% (209.1%), p0: 18.2%\n",
      "Die Hoffnung ist erneuerbar: 14/20, p1: 21.4% (21.4%), p2: 35.7% (164.3%), p3: 28.6% (214.3%), p0: 14.3%\n",
      "Swiss Young Physicists' Tournament: 3/20, p1: 66.7% (333.3%), p2: 0.0% (133.3%), p3: 0.0% (500.0%), p0: 33.3%\n",
      "Von Big Data und Künstlicher Intelligenz zur Umweltinformatik: 11/16, p1: 27.3% (72.7%), p2: 45.5% (272.7%), p3: 27.3% (218.2%), p0: 0.0%\n",
      "Woher kommst du wirklich? Frag deine DNA!: 20/20, p1: 75.0% (255.0%), p2: 25.0% (235.0%), p3: 0.0% (80.0%), p0: 0.0%\n",
      "Astronomie: 18/20, p1: 16.7% (66.7%), p2: 55.6% (166.7%), p3: 27.8% (183.3%), p0: 0.0%\n",
      "Entsorgung, Recycling und Abwasserreinigung in Zürich: 13/16, p1: 7.7% (15.4%), p2: 38.5% (100.0%), p3: 23.1% (184.6%), p0: 30.8%\n",
      "Praktische Molekulargenetik: Wolbachia – auf der Suche nach Bakterien-DNA in selbstgefangenen Insekt: 14/14, p1: 28.6% (71.4%), p2: 71.4% (257.1%), p3: 0.0% (135.7%), p0: 0.0%\n",
      "Energiespeicherung – Vom Akku bis zum Pump-Speicherstausee: 10/20, p1: 60.0% (90.0%), p2: 20.0% (190.0%), p3: 20.0% (380.0%), p0: 0.0%\n",
      "\n"
     ]
    }
   ],
   "source": [
    "block_nr = 5\n",
    "details = True\n",
    "\n",
    "list_results(best_blocks, block_nr, students, details)"
   ]
  },
  {
   "cell_type": "code",
   "execution_count": 13,
   "metadata": {},
   "outputs": [
    {
     "name": "stdout",
     "output_type": "stream",
     "text": [
      "Oberflächen und Farben ['3b', '3c', '3d', '3e', '3f']\n",
      "Fourier-Reihen ['3a', '3c', '3e']\n",
      "Datenexploration ['3a', '3c', '3d', '3f', '3g', '3h']\n",
      "Astrophysik, Planetologie und Raumfahrt ['3a', '3d', '3e', '3f', '3g', '3h']\n",
      "Molekulare Schalter – eine on/off-Beziehung ['3a', '3b', '3d', '3e', '3h']\n",
      "Let's Arduino ['3a', '3b', '3c', '3d', '3f', '3g', '3h']\n",
      "Die Hoffnung ist erneuerbar ['3b', '3c', '3d', '3e', '3f', '3g', '3h']\n",
      "Swiss Young Physicists' Tournament ['3a', '3b', '3f']\n",
      "Von Big Data und Künstlicher Intelligenz zur Umweltinformatik ['3a', '3c', '3d', '3e', '3g', '3h']\n",
      "Woher kommst du wirklich? Frag deine DNA! ['3a', '3b', '3c', '3d', '3e', '3f', '3g']\n",
      "Astronomie ['3a', '3b', '3c', '3d', '3e', '3f', '3g']\n",
      "Entsorgung, Recycling und Abwasserreinigung in Zürich ['3a', '3b', '3c', '3d', '3e', '3g', '3h']\n",
      "Praktische Molekulargenetik: Wolbachia – auf der Suche nach Bakterien-DNA in selbstgefangenen Insekt ['3a', '3b', '3c', '3d', '3e', '3h']\n",
      "Energiespeicherung – Vom Akku bis zum Pump-Speicherstausee ['3a', '3b', '3d', '3e', '3f', '3g']\n"
     ]
    }
   ],
   "source": [
    "for module in best_blocks[4]:\n",
    "    print(module, get_students_for_module(best_blocks[4], module, students))"
   ]
  },
  {
   "cell_type": "code",
   "execution_count": null,
   "metadata": {},
   "outputs": [],
   "source": []
  }
 ],
 "metadata": {
  "kernelspec": {
   "display_name": "selemint",
   "language": "python",
   "name": "python3"
  },
  "language_info": {
   "codemirror_mode": {
    "name": "ipython",
    "version": 3
   },
   "file_extension": ".py",
   "mimetype": "text/x-python",
   "name": "python",
   "nbconvert_exporter": "python",
   "pygments_lexer": "ipython3",
   "version": "3.11.5"
  }
 },
 "nbformat": 4,
 "nbformat_minor": 2
}
