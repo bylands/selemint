{
 "cells": [
  {
   "cell_type": "code",
   "execution_count": 144,
   "metadata": {},
   "outputs": [],
   "source": [
    "import copy\n",
    "import json\n",
    "import random"
   ]
  },
  {
   "cell_type": "code",
   "execution_count": 169,
   "metadata": {},
   "outputs": [],
   "source": [
    "blocks_f = 'data/blocks.json'\n",
    "with open(blocks_f) as f:\n",
    "    blocks = json.load(f)\n",
    "\n",
    "students_f = 'data/priorities.json'\n",
    "with open(students_f) as f:\n",
    "    students_tmp = json.load(f)\n",
    "\n",
    "N_blocks = len(blocks)\n",
    "\n",
    "for block in blocks.values():\n",
    "    for module, slots in block.items():\n",
    "        block[module] = {'slots': slots, 'prio1': 0, 'prio2': 0, 'prio3': 0, 'factor': 1, 'IDs': []}\n",
    "\n",
    "students = []\n",
    "\n",
    "for i, student in enumerate(students_tmp):\n",
    "    \n",
    "    s = {'ID': f'{i:03}',\n",
    "        'last_name': student['last_name'],\n",
    "        'first_name': student['first_name'],\n",
    "        'class': student['class'],\n",
    "        'block1': {'prio1': [], 'prio2': [], 'prio3': [], 'weight': 1},\n",
    "        'block2': {'prio1': [], 'prio2': [], 'prio3': [], 'weight': 1},\n",
    "        'block3': {'prio1': [], 'prio2': [], 'prio3': [], 'weight': 1},\n",
    "        'block4': {'prio1': [], 'prio2': [], 'prio3': [], 'weight': 1},\n",
    "        'block5': {'prio1': [], 'prio2': [], 'prio3': [], 'weight': 1}\n",
    "    }\n",
    "    for p in student['priorities']:\n",
    "        if (mod_prio := p['priority']) in (1, 2, 3):\n",
    "            \n",
    "            mod_type = p['module_type']\n",
    "            mod_name = p['module_name']\n",
    "            s['block'+str(mod_type)]['prio'+str(4-mod_prio)].append(mod_name)\n",
    "\n",
    "            blocks[str(mod_type)][mod_name]['prio'+str(4-mod_prio)] += 1\n",
    "\n",
    "    students.append(s)"
   ]
  },
  {
   "cell_type": "code",
   "execution_count": 170,
   "metadata": {},
   "outputs": [],
   "source": [
    "for block in blocks.values():\n",
    "    for module in block:\n",
    "        slots = block[module]['slots']\n",
    "        prio1 = block[module]['prio1']\n",
    "        prio2 = block[module]['prio2']\n",
    "        prio3 = block[module]['prio3']\n",
    "\n",
    "        if (empty := slots-prio1) >= 0:\n",
    "            block[module]['factor'] += 1\n",
    "            if (empty := empty-prio2) >= 0:\n",
    "                block[module]['factor'] += 1\n",
    "                if empty - prio3 >= 0:\n",
    "                    block[module]['factor'] += 1\n"
   ]
  },
  {
   "cell_type": "code",
   "execution_count": 171,
   "metadata": {},
   "outputs": [],
   "source": [
    "for student in students:\n",
    "    for i in range(N_blocks):\n",
    "        s = student['block'+str(i+1)]\n",
    "        s['weight'] = len(s['prio1']) + len(s['prio2']) + len(s['prio3'])"
   ]
  },
  {
   "cell_type": "code",
   "execution_count": 201,
   "metadata": {},
   "outputs": [],
   "source": [
    "try_blocks = copy.deepcopy(blocks)\n",
    "\n",
    "for i, block in enumerate(try_blocks.values(), start=1):\n",
    "    block_key = 'block'+str(i)\n",
    "    students = sorted(students, key=lambda x: x[block_key]['weight']+random.random(), reverse=True)\n",
    "\n",
    "    for student in students:\n",
    "        block_data = student[block_key]\n",
    "        prio1 = block_data['prio1']\n",
    "        prio2 = block_data['prio2']\n",
    "        prio3 = block_data['prio3']\n",
    "        options = []\n",
    "        for mod_key, mod_value in block.items():\n",
    "            if mod_value['slots'] != 0:\n",
    "                opt_factor = mod_value['factor']\n",
    "                if mod_key in prio1:\n",
    "                    opt_factor *= 30\n",
    "                elif mod_key in prio2:\n",
    "                    opt_factor *= 20\n",
    "                elif mod_key in prio3:\n",
    "                    opt_factor *= 10\n",
    "            \n",
    "                options += [mod_key] * opt_factor\n",
    "\n",
    "        choice = random.choice(options)\n",
    "        block_data['choice'] = choice\n",
    "        block[choice]['slots'] -= 1\n",
    "        block[choice]['IDs'].append(student['ID'])\n",
    "\n"
   ]
  },
  {
   "cell_type": "code",
   "execution_count": 202,
   "metadata": {},
   "outputs": [
    {
     "name": "stdout",
     "output_type": "stream",
     "text": [
      "Oberflächen und Farben, 0, 2 (6), 12 (30), 1 (33), 5\n",
      "Fourier-Reihen, 8, 4 (6), 4 (16), 1 (20), 3\n",
      "Datenexploration, 12, 2 (11), 2 (19), 1 (22), 3\n",
      "Astrophysik, Planetologie und Raumfahrt, 3, 9 (31), 6 (44), 1 (27), 1\n",
      "Molekulare Schalter – eine on/off-Beziehung, 0, 0 (6), 11 (39), 0 (21), 1\n",
      "Let's Arduino, 4, 0 (4), 3 (21), 1 (23), 4\n",
      "Die Hoffnung ist erneuerbar, 11, 1 (3), 3 (23), 3 (30), 2\n",
      "Swiss Young Physicists' Tournament, 10, 5 (10), 1 (4), 1 (15), 3\n",
      "Von Big Data und Künstlicher Intelligenz zur Umweltinformatik, 3, 3 (8), 6 (30), 3 (24), 1\n",
      "Woher kommst du wirklich? Frag deine DNA!, 4, 11 (51), 4 (47), 1 (16), 0\n",
      "Astronomie, 0, 5 (12), 12 (30), 2 (33), 1\n",
      "Entsorgung, Recycling und Abwasserreinigung in Zürich, 9, 2 (2), 2 (13), 1 (24), 2\n",
      "Praktische Molekulargenetik: Wolbachia – auf der Suche nach Bakterien-DNA in selbstgefangenen Insekt, 0, 4 (10), 7 (36), 0 (19), 3\n",
      "Energiespeicherung – Vom Akku bis zum Pump-Speicherstausee, 8, 5 (9), 1 (19), 1 (38), 5\n",
      "178\n"
     ]
    }
   ],
   "source": [
    "block_num = 5\n",
    "total = 0\n",
    "\n",
    "for mod_key, mod_val in try_blocks[str(block_num)].items():\n",
    "    ids = mod_val['IDs']\n",
    "    slots = mod_val['slots']\n",
    "    p1 = mod_val['prio1']\n",
    "    p2 = mod_val['prio2']\n",
    "    p3 = mod_val['prio3']\n",
    "    prio1 = prio2 = prio3 = prio0 = 0\n",
    "    for id in ids:\n",
    "        student = next(s for s in students if s['ID'] == id)\n",
    "        if mod_key in student['block'+str(block_num)]['prio1']:\n",
    "            prio1 += 1\n",
    "        elif mod_key in student['block'+str(block_num)]['prio2']:\n",
    "            prio2 += 1\n",
    "        elif mod_key in student['block'+str(block_num)]['prio3']:\n",
    "            prio3 += 1\n",
    "        else:\n",
    "            prio0 += 1\n",
    "        \n",
    "    print(f'{mod_key}, {slots}, {prio1} ({p1}), {prio2} ({p2}), {prio3} ({p3}), {prio0}')\n",
    "    total += prio1+prio2+prio3+prio0\n",
    "\n",
    "print(total)\n"
   ]
  },
  {
   "cell_type": "code",
   "execution_count": 188,
   "metadata": {},
   "outputs": [
    {
     "data": {
      "text/plain": [
       "178"
      ]
     },
     "execution_count": 188,
     "metadata": {},
     "output_type": "execute_result"
    }
   ],
   "source": [
    "len(students)"
   ]
  },
  {
   "cell_type": "code",
   "execution_count": null,
   "metadata": {},
   "outputs": [],
   "source": []
  }
 ],
 "metadata": {
  "kernelspec": {
   "display_name": "selemint",
   "language": "python",
   "name": "python3"
  },
  "language_info": {
   "codemirror_mode": {
    "name": "ipython",
    "version": 3
   },
   "file_extension": ".py",
   "mimetype": "text/x-python",
   "name": "python",
   "nbconvert_exporter": "python",
   "pygments_lexer": "ipython3",
   "version": "3.11.5"
  }
 },
 "nbformat": 4,
 "nbformat_minor": 2
}
