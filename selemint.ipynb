{
 "cells": [
  {
   "cell_type": "code",
   "execution_count": null,
   "metadata": {},
   "outputs": [],
   "source": [
    "import copy\n",
    "import random\n",
    "\n",
    "from get_data import get_data\n",
    "from blocks import init_blocks, calc_factors, get_block_stat, get_block_penalty\n",
    "from students import init_students, calc_weights, get_students_penalty, update_students\n",
    "from students import get_p0_students, get_students_stat, get_students_for_module, get_incomplete_students\n",
    "from planner import get_try, list_results"
   ]
  },
  {
   "cell_type": "code",
   "execution_count": null,
   "metadata": {},
   "outputs": [],
   "source": [
    "blocks = get_data('data/blocks.json')\n",
    "students_tmp = get_data('data/priorities.json')\n",
    "specials = get_data('data/specials.json')\n",
    "\n",
    "N_blocks = len(blocks)\n",
    "N_students = len(students_tmp)\n",
    "N_tries = 10\n",
    "\n",
    "init_blocks(blocks)\n",
    "\n",
    "students = init_students(students_tmp, blocks)\n",
    "\n",
    "calc_factors(blocks)\n",
    "\n",
    "calc_weights(students, N_blocks)\n",
    "\n",
    "best_blocks = []\n",
    "\n",
    "for block_nr in range(1, N_blocks+1):\n",
    "    best_block = get_try(blocks[str(block_nr)], block_nr, students, specials[str(block_nr)])\n",
    "    block_penalty = get_block_penalty(best_block, block_nr, students)\n",
    "    students_penalty = get_students_penalty(students, block_nr)\n",
    "    penalty = block_penalty + students_penalty\n",
    "\n",
    "    for i in range(N_tries):\n",
    "        try_block = get_try(blocks[str(block_nr)], block_nr, students, specials[str(block_nr)])\n",
    "        block_penalty_try = get_block_penalty(try_block, block_nr, students)\n",
    "        students_penalty_try = get_students_penalty(students, block_nr)\n",
    "        penalty_try = block_penalty_try + students_penalty_try\n",
    "\n",
    "        # if block_penalty_next < block_penalty:\n",
    "        #     try_block = try_block_next\n",
    "        #     block_penalty = block_penalty_next\n",
    "            \n",
    "        if penalty_try < penalty:\n",
    "            best_block = try_block\n",
    "            block_penalty = block_penalty_try\n",
    "            students_penalty = students_penalty_try\n",
    "            penalty = penalty_try\n",
    "            \n",
    "    update_students(best_block, block_nr, students)\n",
    "\n",
    "    best_blocks.append(best_block)\n"
   ]
  },
  {
   "cell_type": "code",
   "execution_count": null,
   "metadata": {},
   "outputs": [],
   "source": [
    "block_nr = 1\n",
    "details = True\n",
    "\n",
    "list_results(best_blocks, block_nr, students, details)"
   ]
  },
  {
   "cell_type": "code",
   "execution_count": null,
   "metadata": {},
   "outputs": [],
   "source": [
    "for module in best_blocks[4]:\n",
    "    print(module, get_students_for_module(best_blocks[4], module, students))"
   ]
  },
  {
   "cell_type": "code",
   "execution_count": null,
   "metadata": {},
   "outputs": [],
   "source": [
    "get_incomplete_students(students, 5)"
   ]
  },
  {
   "cell_type": "code",
   "execution_count": null,
   "metadata": {},
   "outputs": [],
   "source": [
    "gen = (s for s in students if s['ID']=='056')"
   ]
  }
 ],
 "metadata": {
  "language_info": {
   "name": "python"
  }
 },
 "nbformat": 4,
 "nbformat_minor": 2
}
