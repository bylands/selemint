{
 "cells": [
  {
   "cell_type": "code",
   "execution_count": 1,
   "metadata": {},
   "outputs": [],
   "source": [
    "import copy\n",
    "import random\n",
    "\n",
    "from get_data import get_data\n",
    "from blocks import init_blocks, calc_factors, get_block_stat, get_block_penalty\n",
    "from students import init_students, calc_weights, get_students_penalty, update_students, get_p0_students, get_students_stat\n",
    "from planner import get_try, list_results"
   ]
  },
  {
   "cell_type": "code",
   "execution_count": 2,
   "metadata": {},
   "outputs": [
    {
     "name": "stdout",
     "output_type": "stream",
     "text": [
      "block 1: p1: 42.7%, p2: 41.0%, p3: 14.0%, p0: 2.2%\n",
      "Zeix: 16/20, p1: 12.5% (12.5%), p2: 56.2% (175.0%), p3: 25.0% (150.0%), p0: 6.2%\n",
      "SCS Supercomputing Systems: 14/20, p1: 57.1% (114.3%), p2: 35.7% (142.9%), p3: 0.0% (157.1%), p0: 7.1%\n",
      "Kyburz: 15/20, p1: 73.3% (140.0%), p2: 20.0% (246.7%), p3: 6.7% (213.3%), p0: 0.0%\n",
      "Siemens Mobility AG: 18/20, p1: 50.0% (111.1%), p2: 33.3% (88.9%), p3: 16.7% (177.8%), p0: 0.0%\n",
      "Varian: 15/20, p1: 20.0% (53.3%), p2: 60.0% (346.7%), p3: 20.0% (173.3%), p0: 0.0%\n",
      "MAN Energy Solutions: 10/20, p1: 20.0% (40.0%), p2: 40.0% (170.0%), p3: 40.0% (380.0%), p0: 0.0%\n",
      "Universitätsspital Zürich: 20/20, p1: 80.0% (240.0%), p2: 20.0% (230.0%), p3: 0.0% (120.0%), p0: 0.0%\n",
      "Acht Grad Ost: 10/20, p1: 30.0% (70.0%), p2: 40.0% (180.0%), p3: 20.0% (310.0%), p0: 10.0%\n",
      "Weidmann: 12/20, p1: 25.0% (41.7%), p2: 66.7% (350.0%), p3: 8.3% (233.3%), p0: 0.0%\n",
      "True Wealth: 7/20, p1: 85.7% (328.6%), p2: 14.3% (442.9%), p3: 0.0% (300.0%), p0: 0.0%\n",
      "PartnerRe: 10/20, p1: 30.0% (40.0%), p2: 50.0% (180.0%), p3: 20.0% (230.0%), p0: 0.0%\n",
      "Sensirion: 12/20, p1: 50.0% (66.7%), p2: 41.7% (225.0%), p3: 0.0% (241.7%), p0: 8.3%\n",
      "Hocoma: 19/20, p1: 21.1% (21.1%), p2: 52.6% (194.7%), p3: 26.3% (136.8%), p0: 0.0%\n",
      "\n"
     ]
    }
   ],
   "source": [
    "blocks = get_data('data/blocks.json')\n",
    "\n",
    "students_tmp = get_data('data/priorities.json')\n",
    "\n",
    "N_blocks = len(blocks)\n",
    "N_students = len(students_tmp)\n",
    "N_tries = 1000\n",
    "\n",
    "init_blocks(blocks)\n",
    "\n",
    "students = init_students(students_tmp, blocks)\n",
    "\n",
    "calc_factors(blocks)\n",
    "\n",
    "calc_weights(students, N_blocks)\n",
    "\n",
    "best_blocks = []\n",
    "\n",
    "for block_nr in range(1, N_blocks+1):\n",
    "    best_block = get_try(blocks[str(block_nr)], block_nr, students)\n",
    "    block_penalty = get_block_penalty(best_block, block_nr, students)\n",
    "    students_penalty = get_students_penalty(students, block_nr)\n",
    "    penalty = block_penalty + students_penalty\n",
    "\n",
    "    for i in range(N_tries):\n",
    "        try_block = get_try(blocks[str(block_nr)], block_nr, students)\n",
    "        block_penalty_try = get_block_penalty(try_block, block_nr, students)\n",
    "        students_penalty_try = get_students_penalty(students, block_nr)\n",
    "        penalty_try = block_penalty_try + students_penalty_try\n",
    "\n",
    "        # if block_penalty_next < block_penalty:\n",
    "        #     try_block = try_block_next\n",
    "        #     block_penalty = block_penalty_next\n",
    "            \n",
    "        if penalty_try < penalty:\n",
    "            best_block = try_block\n",
    "            block_penalty = block_penalty_try\n",
    "            students_penalty = students_penalty_try\n",
    "            penalty = penalty_try\n",
    "            \n",
    "    update_students(best_block, block_nr, students)\n",
    "\n",
    "    best_blocks.append(best_block)\n"
   ]
  },
  {
   "cell_type": "code",
   "execution_count": 6,
   "metadata": {},
   "outputs": [
    {
     "name": "stdout",
     "output_type": "stream",
     "text": [
      "block 3: p1: 49.4%, p2: 39.3%, p3: 6.2%, p0: 5.1%\n",
      "Chemie (ETH): 25/25, p1: 28.0% (72.0%), p2: 56.0% (248.0%), p3: 8.0% (116.0%), p0: 8.0%\n",
      "Materialwissenschaft (ETH): 20/20, p1: 45.0% (100.0%), p2: 50.0% (210.0%), p3: 5.0% (255.0%), p0: 0.0%\n",
      "Medizin studieren an der ETH: 49/50, p1: 67.3% (98.0%), p2: 24.5% (59.2%), p3: 2.0% (61.2%), p0: 6.1%\n",
      "Pharmazeutische Wissenschaften (ETH): 19/24, p1: 42.1% (131.6%), p2: 47.4% (294.7%), p3: 0.0% (147.4%), p0: 10.5%\n",
      "Physik (ETH): 20/20, p1: 70.0% (130.0%), p2: 25.0% (160.0%), p3: 5.0% (125.0%), p0: 0.0%\n",
      "Illuminating the Chemistry of Life (UZH): 25/30, p1: 20.0% (36.0%), p2: 56.0% (156.0%), p3: 20.0% (136.0%), p0: 4.0%\n",
      "Was ist ein Programm? (UZH): 20/20, p1: 60.0% (90.0%), p2: 30.0% (100.0%), p3: 5.0% (90.0%), p0: 5.0%\n",
      "\n"
     ]
    }
   ],
   "source": [
    "list_results(best_blocks, 3, students, True)"
   ]
  },
  {
   "cell_type": "code",
   "execution_count": null,
   "metadata": {},
   "outputs": [],
   "source": []
  }
 ],
 "metadata": {
  "kernelspec": {
   "display_name": "selemint",
   "language": "python",
   "name": "python3"
  },
  "language_info": {
   "codemirror_mode": {
    "name": "ipython",
    "version": 3
   },
   "file_extension": ".py",
   "mimetype": "text/x-python",
   "name": "python",
   "nbconvert_exporter": "python",
   "pygments_lexer": "ipython3",
   "version": "3.11.5"
  }
 },
 "nbformat": 4,
 "nbformat_minor": 2
}
