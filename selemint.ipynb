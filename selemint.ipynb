{
 "cells": [
  {
   "cell_type": "code",
   "execution_count": 2,
   "metadata": {},
   "outputs": [],
   "source": [
    "from get_data import get_data\n",
    "from blocks import init_blocks, calc_factors, get_block_stat, get_block_penalty\n",
    "from students import init_students, calc_weights, get_students_penalty, update_students\n",
    "from students import get_p0_students, get_students_stat, get_classes_for_module, get_incomplete_students\n",
    "from planner import get_try, list_results"
   ]
  },
  {
   "cell_type": "code",
   "execution_count": 3,
   "metadata": {},
   "outputs": [],
   "source": [
    "# read module data\n",
    "blocks = get_data('data/blocks.json')\n",
    "\n",
    "# read student priorities\n",
    "students_tmp = get_data('data/priorities.json')\n",
    "\n",
    "# read special cases\n",
    "specials = get_data('data/specials.json')\n",
    "\n",
    "N_blocks = len(blocks) # number of blocks\n",
    "N_students = len(students_tmp) # number of students\n",
    "N_tries = 1000 # number of tries for optimisation loop\n",
    "\n",
    "# initialise blocks\n",
    "init_blocks(blocks)\n",
    "\n",
    "# initialise student data\n",
    "students = init_students(students_tmp, blocks)\n",
    "\n",
    "# calculate factors for modules\n",
    "calc_factors(blocks)\n",
    "\n",
    "# calculate weights for students\n",
    "calc_weights(students, N_blocks)\n",
    "\n",
    "# optimisation\n",
    "best_blocks = []\n",
    "\n",
    "for block_nr in range(1, N_blocks+1):\n",
    "    # get data for first try\n",
    "    best_block = get_try(blocks[str(block_nr)], block_nr, students, specials[str(block_nr)])\n",
    "    block_penalty = get_block_penalty(best_block, block_nr, students)\n",
    "    students_penalty = get_students_penalty(students, block_nr)\n",
    "    penalty = block_penalty + students_penalty\n",
    "\n",
    "    for i in range(N_tries):\n",
    "        # get data for next try\n",
    "        try_block = get_try(blocks[str(block_nr)], block_nr, students, specials[str(block_nr)])\n",
    "        block_penalty_try = get_block_penalty(try_block, block_nr, students)\n",
    "        students_penalty_try = get_students_penalty(students, block_nr)\n",
    "        penalty_try = block_penalty_try + students_penalty_try\n",
    "\n",
    "        # pick best of new try and former best try    \n",
    "        if penalty_try < penalty:\n",
    "            best_block = try_block\n",
    "            block_penalty = block_penalty_try\n",
    "            students_penalty = students_penalty_try\n",
    "            penalty = penalty_try\n",
    "\n",
    "    # update student selections       \n",
    "    update_students(best_block, block_nr, students)\n",
    "\n",
    "    best_blocks.append(best_block)\n"
   ]
  },
  {
   "cell_type": "code",
   "execution_count": 4,
   "metadata": {},
   "outputs": [
    {
     "name": "stdout",
     "output_type": "stream",
     "text": [
      "block 1: p1: 59.0%, p2: 32.0%, p3: 5.6%, p0: 3.4%\n",
      "Zeix: 6/20, p1: 16.7% (10.0%), p2: 83.3% (140.0%), p3: 0.0% (120.0%), p0: 0.0%\n",
      "SCS Supercomputing Systems: 14/20, p1: 78.6% (80.0%), p2: 21.4% (100.0%), p3: 0.0% (110.0%), p0: 0.0%\n",
      "Kyburz: 20/20, p1: 75.0% (105.0%), p2: 20.0% (185.0%), p3: 0.0% (160.0%), p0: 5.0%\n",
      "Siemens Mobility AG: 20/20, p1: 75.0% (100.0%), p2: 15.0% (80.0%), p3: 5.0% (160.0%), p0: 5.0%\n",
      "Varian: 16/20, p1: 37.5% (40.0%), p2: 50.0% (260.0%), p3: 12.5% (130.0%), p0: 0.0%\n",
      "MAN Energy Solutions: 2/20, p1: 50.0% (20.0%), p2: 0.0% (85.0%), p3: 50.0% (190.0%), p0: 0.0%\n",
      "Universitätsspital Zürich: 20/20, p1: 80.0% (240.0%), p2: 15.0% (230.0%), p3: 5.0% (120.0%), p0: 0.0%\n",
      "Acht Grad Ost: 10/20, p1: 60.0% (35.0%), p2: 30.0% (90.0%), p3: 10.0% (155.0%), p0: 0.0%\n",
      "Weidmann: 12/20, p1: 25.0% (25.0%), p2: 50.0% (210.0%), p3: 16.7% (140.0%), p0: 8.3%\n",
      "True Wealth: 20/20, p1: 80.0% (115.0%), p2: 20.0% (155.0%), p3: 0.0% (105.0%), p0: 0.0%\n",
      "PartnerRe: 7/20, p1: 42.9% (20.0%), p2: 42.9% (90.0%), p3: 14.3% (115.0%), p0: 0.0%\n",
      "Sensirion: 15/20, p1: 53.3% (40.0%), p2: 33.3% (135.0%), p3: 6.7% (145.0%), p0: 6.7%\n",
      "Hocoma: 16/20, p1: 25.0% (20.0%), p2: 62.5% (185.0%), p3: 0.0% (130.0%), p0: 12.5%\n",
      "\n"
     ]
    }
   ],
   "source": [
    "block_nr = 1\n",
    "details = True\n",
    "\n",
    "list_results(best_blocks, block_nr, students, details)"
   ]
  },
  {
   "cell_type": "code",
   "execution_count": 6,
   "metadata": {},
   "outputs": [
    {
     "name": "stdout",
     "output_type": "stream",
     "text": [
      "Aktuelle Forschung am CERN (UZH) ['3b', '3c', '3d', '3e', '3f', '3g', '3h']\n",
      "Hyperwürfel (UZH) ['3a', '3b', '3d', '3e', '3f', '3g', '3h']\n",
      "Krebsforschung (UZH) ['3a', '3b', '3c', '3d', '3e', '3f', '3g']\n",
      "Informatik (ETH) ['3a', '3b', '3c', '3f', '3g', '3h']\n",
      "Informationstechnologie und Elektrotechnik (ETH) ['3a', '3b', '3c', '3d', '3e', '3f', '3g', '3h']\n",
      "Maschineningenieurwissenschaften (ETH) ['3a', '3b', '3c', '3d', '3e', '3f', '3g', '3h']\n",
      "Mathematik (ETH) ['3a', '3b', '3c', '3d', '3e', '3f', '3g', '3h']\n"
     ]
    }
   ],
   "source": [
    "module_nr = 3\n",
    "\n",
    "for module in best_blocks[module_nr]:\n",
    "    print(module, get_classes_for_module(best_blocks[module_nr], module, students))"
   ]
  },
  {
   "cell_type": "code",
   "execution_count": 7,
   "metadata": {},
   "outputs": [
    {
     "data": {
      "text/plain": [
       "[]"
      ]
     },
     "execution_count": 7,
     "metadata": {},
     "output_type": "execute_result"
    }
   ],
   "source": [
    "get_incomplete_students(students, 5)"
   ]
  },
  {
   "cell_type": "code",
   "execution_count": null,
   "metadata": {},
   "outputs": [],
   "source": []
  }
 ],
 "metadata": {
  "kernelspec": {
   "display_name": "playground",
   "language": "python",
   "name": "python3"
  },
  "language_info": {
   "codemirror_mode": {
    "name": "ipython",
    "version": 3
   },
   "file_extension": ".py",
   "mimetype": "text/x-python",
   "name": "python",
   "nbconvert_exporter": "python",
   "pygments_lexer": "ipython3",
   "version": "3.10.9"
  }
 },
 "nbformat": 4,
 "nbformat_minor": 2
}
