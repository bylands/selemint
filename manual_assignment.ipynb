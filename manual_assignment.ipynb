{
 "cells": [
  {
   "cell_type": "code",
   "execution_count": null,
   "metadata": {},
   "outputs": [],
   "source": [
    "from blocks import init_blocks\n",
    "from get_data import get_data\n",
    "from students import init_students"
   ]
  },
  {
   "cell_type": "code",
   "execution_count": null,
   "metadata": {},
   "outputs": [],
   "source": [
    "student_assignments = get_data('data/assigned_student.json')\n",
    "\n",
    "stats = {'1': {'p1': 0, 'p2': 0, 'p3': 0},\n",
    "         '2': {'p1': 0, 'p2': 0, 'p3': 0},\n",
    "         '3': {'p1': 0, 'p2': 0, 'p3': 0},\n",
    "         '4': {'p1': 0, 'p2': 0, 'p3': 0},\n",
    "         '5': {'p1': 0, 'p2': 0, 'p3': 0}}\n",
    "blocks = get_data('data/blocks.json')\n",
    "priorities = get_data('data/priorities.json')\n",
    "\n",
    "init_blocks(blocks)\n",
    "\n",
    "students = init_students(priorities, blocks)\n",
    "\n",
    "for student in student_assignments:\n",
    "    name = student['student_name']\n",
    "    module = student['module_name']\n",
    "    \n",
    "    try:\n",
    "        student_prios = next(s for s in students \n",
    "                             if (s['first_name'] in name \n",
    "                                 and s['last_name'] in name))\n",
    "    except:\n",
    "        student_prios = None\n",
    "\n",
    "    if student_prios:\n",
    "        block_nr = next(b for b in blocks if module in blocks[b])\n",
    "        if module in student_prios['block'+block_nr]['prio1']:\n",
    "            stats[block_nr]['p1'] += 1\n",
    "            \n",
    "        if module in student_prios['block'+block_nr]['prio2']:\n",
    "            stats[block_nr]['p2'] += 1\n",
    "            \n",
    "        if module in student_prios['block'+block_nr]['prio3']:\n",
    "            stats[block_nr]['p3'] += 1\n",
    "            \n"
   ]
  },
  {
   "cell_type": "code",
   "execution_count": null,
   "metadata": {},
   "outputs": [],
   "source": [
    "stats"
   ]
  },
  {
   "cell_type": "code",
   "execution_count": null,
   "metadata": {},
   "outputs": [],
   "source": []
  }
 ],
 "metadata": {
  "language_info": {
   "name": "python"
  }
 },
 "nbformat": 4,
 "nbformat_minor": 2
}
