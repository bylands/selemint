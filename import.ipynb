{
 "cells": [
  {
   "cell_type": "code",
   "execution_count": null,
   "metadata": {},
   "outputs": [],
   "source": [
    "import pandas as pd"
   ]
  },
  {
   "cell_type": "code",
   "execution_count": null,
   "metadata": {},
   "outputs": [],
   "source": [
    "priorities_df = pd.read_json('priorities.json')"
   ]
  },
  {
   "cell_type": "code",
   "execution_count": null,
   "metadata": {},
   "outputs": [],
   "source": [
    "companies = {'Zeix': 20, 'SCS': 20, 'Kyburz': 20, 'Siemens': 20, 'Varian': 20, 'MAN':20, 'USZ': 20, \n",
    "             'Acht Grad Ost': 20, 'Weidmann': 20, 'True Wealth': 20, 'PartnerRe': 20, 'Sensirion': 20, 'Hocoma': 20}\n",
    "uni1 = {'Architektur': 30, 'Biologie (ETH)': 60, 'Raum (ETH)': 16, 'Umwelt (ETH)': 16, \n",
    "        'Drohnen (UZH)': 40, 'Biodiversität (UZH)': 24, 'Physik (UZH)': 20}\n",
    "uni2 = {'Chemie (ETH)': 25, 'Material (ETH)': 20, 'Medizin (ETH)': 50, 'Pharma (ETH)': 24, 'Physik (ETH)': 20,\n",
    "        'Chemie (UZH)': 30, 'Informatik (UZH)': 20}\n",
    "uni3 = {'CERN (UZH)': 30, 'Hyperwürfel (UZH)': 20, 'Krebsforschung (UZH)': 20, \n",
    "        'Informatik (ETH)': 16, 'Elektrotechnik (ETH)': 30, 'Maschinen (ETH)': 40, 'Mathematik (ETH)': 30}\n",
    "workshops = {'Oberflächen und Farben': 20, 'Fourier': 20, 'Datenexploration': 20, 'Astrophysik': 20,\n",
    "             'Molekulare Schalter': 12, 'Arduino': 12, 'Erneuerbar': 20, 'SYPT': 20, 'Big Data': 16, \n",
    "             'DNA': 20, 'Astronomie': 20, 'Recycling': 16, 'Molekulargenetik': 14, 'Energiespeicherung': 20}\n",
    "\n",
    "blocks = {'companies': companies, 'uni1': uni1, 'uni2': uni2, 'uni3': uni3, 'workshops': workshops}\n",
    "block_names = [block for block in blocks.keys()]"
   ]
  },
  {
   "cell_type": "code",
   "execution_count": null,
   "metadata": {},
   "outputs": [],
   "source": [
    "dict = {}\n",
    "first = {}\n",
    "seconds = {}\n",
    "thirds = {}\n",
    "\n",
    "last_name_list = []\n",
    "first_name_list = []\n",
    "class_list = []\n",
    "\n",
    "\n",
    "for block_name in block_names:\n",
    "    first[block_name] = []\n",
    "    seconds[block_name] = []\n",
    "    thirds[block_name] = []\n",
    "\n",
    "for id, row in priorities_df.iterrows():\n",
    "    last_name_list.append(row['last_name'])\n",
    "    first_name_list.append(row['first_name'])\n",
    "    class_list.append(row['class'])\n",
    "\n",
    "    for block_id, block_name in enumerate(block_names):\n",
    "\n",
    "        p1 = ''\n",
    "        p2 = []\n",
    "        p3 = []\n",
    "\n",
    "        for item in row['priorities']:\n",
    "            if block_id == item['module_type'] - 1:\n",
    "                if item['priority'] == 3:\n",
    "                    p1 = item['module_name']\n",
    "                if item['priority'] == 2:\n",
    "                    p2.append(item['module_name'])\n",
    "                if item['priority'] == 1:\n",
    "                    p3.append(item['module_name'])\n",
    "\n",
    "        first[block_name].append(p1)\n",
    "        seconds[block_name].append(p2)\n",
    "        thirds[block_name].append(p3)\n",
    "\n",
    "dict['last_name'] = last_name_list\n",
    "dict['first_name'] = first_name_list\n",
    "dict['class'] = class_list\n",
    "\n",
    "for block_name in block_names:\n",
    "    dict[f'{block_name}_first_choice'] = first[block_name]\n",
    "    dict[f'{block_name}_second_choices'] = seconds[block_name]\n",
    "    dict[f'{block_name}_third_choices'] = thirds[block_name]\n",
    "\n",
    "choices_fd = pd.DataFrame(dict)"
   ]
  },
  {
   "cell_type": "code",
   "execution_count": null,
   "metadata": {},
   "outputs": [],
   "source": [
    "choices_fd.head()"
   ]
  },
  {
   "cell_type": "code",
   "execution_count": null,
   "metadata": {},
   "outputs": [],
   "source": []
  }
 ],
 "metadata": {
  "kernelspec": {
   "display_name": "playground",
   "language": "python",
   "name": "python3"
  },
  "language_info": {
   "codemirror_mode": {
    "name": "ipython",
    "version": 3
   },
   "file_extension": ".py",
   "mimetype": "text/x-python",
   "name": "python",
   "nbconvert_exporter": "python",
   "pygments_lexer": "ipython3",
   "version": "3.10.9"
  }
 },
 "nbformat": 4,
 "nbformat_minor": 2
}
