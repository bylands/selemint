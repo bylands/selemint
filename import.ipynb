{
 "cells": [
  {
   "cell_type": "code",
   "execution_count": 51,
   "metadata": {},
   "outputs": [],
   "source": [
    "import pandas as pd\n",
    "import openpyxl"
   ]
  },
  {
   "cell_type": "code",
   "execution_count": 2,
   "metadata": {},
   "outputs": [],
   "source": [
    "priorities_df = pd.read_json('priorities.json')"
   ]
  },
  {
   "cell_type": "code",
   "execution_count": 6,
   "metadata": {},
   "outputs": [],
   "source": [
    "companies = {'Zeix': 20, 'SCS Supercomputing Systems': 20, 'Kyburz': 20, 'Siemens Mobility AG': 20, 'Varian': 20, \n",
    "             'MAN Energy Solutions':20, 'Universitätsspital Zürich': 20, 'Acht Grad Ost': 20, 'Weidmann': 20, \n",
    "             'True Wealth': 20, 'PartnerRe': 20, 'Sensirion': 20, 'Hocoma': 20}\n",
    "uni1 = {'Architektur (ETH)': 30, 'Biologie (ETH)': 60, 'Raumbezogene Ingenieurwissenschaften (ETH)': 16, \n",
    "        'Umweltingenieurwissenschaften (ETH)': 16, 'Autonome Agile Drohnen (UZH)': 40, \n",
    "        'Biodiversität in Zeit und Raum (UZH)': 24, 'Einblick in aktuelle Forschung am Physik-Institut (UZH)': 20}\n",
    "uni2 = {'Chemie (ETH)': 25, 'Materialwissenschaft (ETH)': 20, 'Medizin studieren an der ETH': 50, \n",
    "        'Pharmazeutische Wissenschaften (ETH)': 24, 'Physik (ETH)': 20, 'Illuminating the Chemistry of Life (UZH)': 30, \n",
    "        'Was ist ein Programm? (UZH)': 20}\n",
    "uni3 = {'Aktuelle Forschung am CERN (UZH)': 30, 'Hyperwürfel (UZH)': 20, 'Krebsforschung (UZH)': 20, \n",
    "        'Informatik (ETH)': 16, 'Informationstechnologie und Elektrotechnik (ETH)': 30, \n",
    "        'Maschineningenieurwissenschaften (ETH)': 40, 'Mathematik (ETH)': 30}\n",
    "workshops = {'Oberflächen und Farben': 20, 'Fourier-Reihen': 20, 'Datenexploration': 20, \n",
    "             'Astrophysik, Planetologie und Raumfahrt': 20, 'Molekulare Schalter – eine on/off-Beziehung': 12, \n",
    "             \"Let's Arduino\": 12, 'Die Hoffnung ist erneuerbar': 20, \"Swiss Young Physicists' Tournament\": 20, \n",
    "             'Von Big Data und Künstlicher Intelligenz zur Umeltinformatik': 16, \n",
    "             'Woher kommst du wirklich? Frag deine DNA!': 20, 'Astronomie': 20, \n",
    "             'Entsorgung, Recycling und Abwasserreinigung in Zürich': 16, \n",
    "             'Praktische Molekulargenetik: Wolbachia – auf der Suche nach Bakterien-DNA in selbstgefangenen Insekt': 14, \n",
    "             'Energiespeicherung – Vom Akku bis zum Pump-Speicherstausee': 20}\n",
    "\n",
    "blocks = {'companies': companies, 'uni1': uni1, 'uni2': uni2, 'uni3': uni3, 'workshops': workshops}\n",
    "block_names = [block for block in blocks.keys()]"
   ]
  },
  {
   "cell_type": "code",
   "execution_count": 62,
   "metadata": {},
   "outputs": [],
   "source": [
    "dict = {}\n",
    "first = {}\n",
    "seconds = {}\n",
    "thirds = {}\n",
    "options = {}\n",
    "max_length_first = {}\n",
    "max_length_seconds = {}\n",
    "max_length_thirds = {}\n",
    "\n",
    "last_name_list = []\n",
    "first_name_list = []\n",
    "class_list = []\n",
    "\n",
    "choices_df = pd.DataFrame()\n",
    "\n",
    "\n",
    "for block_name in block_names:\n",
    "    first[block_name] = []\n",
    "    seconds[block_name] = []\n",
    "    thirds[block_name] = []\n",
    "    max_length_first[block_name] = 0\n",
    "    max_length_seconds[block_name] = 0\n",
    "    max_length_thirds[block_name] = 0\n",
    "\n",
    "    options[block_name] = []\n",
    "\n",
    "for id, row in priorities_df.iterrows():\n",
    "    last_name_list.append(row['last_name'])\n",
    "    first_name_list.append(row['first_name'])\n",
    "    class_list.append(row['class'])\n",
    "\n",
    "    for block_id, block_name in enumerate(block_names):\n",
    "\n",
    "        p1 = []\n",
    "        p2 = []\n",
    "        p3 = []\n",
    "\n",
    "        for item in row['priorities']:\n",
    "            if block_id == item['module_type'] - 1:\n",
    "                if item['priority'] == 3:\n",
    "                    p1.append(item['module_name'])\n",
    "                if item['priority'] == 2:\n",
    "                    p2.append(item['module_name'])\n",
    "                if item['priority'] == 1:\n",
    "                    p3.append(item['module_name'])\n",
    "\n",
    "            if len(p1) > max_length_first[block_name]:\n",
    "                max_length_first[block_name] = len(p1)\n",
    "            if len(p2) > max_length_seconds[block_name]:\n",
    "                max_length_seconds[block_name] = len(p2)\n",
    "            if len(p3) > max_length_thirds[block_name]:\n",
    "                max_length_thirds[block_name] = len(p3)\n",
    "        \n",
    "        first[block_name].append(p1)\n",
    "        seconds[block_name].append(p2)\n",
    "        thirds[block_name].append(p3)\n",
    "\n",
    "        options[block_name].append(p1)\n",
    "        options[block_name].append(p2)\n",
    "        options[block_name].append(p3)\n",
    "\n",
    "\n",
    "dict['last_name'] = last_name_list\n",
    "dict['first_name'] = first_name_list\n",
    "dict['class'] = class_list\n",
    "\n",
    "options_flat = {}\n",
    "\n",
    "for block_name in block_names:\n",
    "    col_names_first = [f'{block_name}_first_{i}' for i in range(max_length_first[block_name])]\n",
    "    col_names_seconds = [f'{block_name}_second_{i}' for i in range(max_length_seconds[block_name])]\n",
    "    col_names_thirds = [f'{block_name}_third_{i}' for i in range(max_length_thirds[block_name])]\n",
    "\n",
    "    dict[f'{block_name}_first_choice'] = first[block_name]    \n",
    "    dict[f'{block_name}_second_choices'] = seconds[block_name]\n",
    "    dict[f'{block_name}_third_choices'] = thirds[block_name]\n",
    "\n",
    "    choices_df[col_names_first] = pd.DataFrame(dict[f'{block_name}_first_choice'])\n",
    "    choices_df[col_names_seconds] = pd.DataFrame(dict[f'{block_name}_second_choices'])\n",
    "    choices_df[col_names_thirds] = pd.DataFrame(dict[f'{block_name}_third_choices'])\n",
    "\n",
    "    options_flat[block_name] = list(set([item for sublist in options[block_name] for item in sublist]))"
   ]
  },
  {
   "cell_type": "code",
   "execution_count": 68,
   "metadata": {},
   "outputs": [
    {
     "data": {
      "text/plain": [
       "dict_keys(['Zeix', 'SCS Supercomputing Systems', 'Kyburz', 'Siemens Mobility AG', 'Varian', 'MAN Energy Solutions', 'Universitätsspital Zürich', 'Acht Grad Ost', 'Weidmann', 'True Wealth', 'PartnerRe', 'Sensirion', 'Hocoma'])"
      ]
     },
     "execution_count": 68,
     "metadata": {},
     "output_type": "execute_result"
    }
   ],
   "source": [
    "options_flat['workshops']\n",
    "blocks['companies'].keys()"
   ]
  },
  {
   "cell_type": "code",
   "execution_count": null,
   "metadata": {},
   "outputs": [],
   "source": []
  }
 ],
 "metadata": {
  "kernelspec": {
   "display_name": "playground",
   "language": "python",
   "name": "python3"
  },
  "language_info": {
   "codemirror_mode": {
    "name": "ipython",
    "version": 3
   },
   "file_extension": ".py",
   "mimetype": "text/x-python",
   "name": "python",
   "nbconvert_exporter": "python",
   "pygments_lexer": "ipython3",
   "version": "3.10.9"
  }
 },
 "nbformat": 4,
 "nbformat_minor": 2
}
