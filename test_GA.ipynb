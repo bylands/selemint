{
 "cells": [
  {
   "cell_type": "code",
   "execution_count": 1,
   "metadata": {},
   "outputs": [],
   "source": [
    "import pandas as pd\n",
    "import numpy as np\n",
    "from numpy.random import default_rng\n",
    "import random\n",
    "from itertools import chain\n",
    "import pickle\n",
    "\n",
    "import choices\n",
    "import create_gene\n",
    "import calculate_fitness\n",
    "import select_mating_pool\n",
    "import crossover\n",
    "\n",
    "from tqdm import tqdm\n",
    "\n",
    "rng = default_rng()"
   ]
  },
  {
   "cell_type": "code",
   "execution_count": 2,
   "metadata": {},
   "outputs": [
    {
     "name": "stdout",
     "output_type": "stream",
     "text": [
      "Generating initial population:\n"
     ]
    },
    {
     "name": "stderr",
     "output_type": "stream",
     "text": [
      "100%|██████████| 1000/1000 [00:11<00:00, 89.70it/s]\n"
     ]
    },
    {
     "name": "stdout",
     "output_type": "stream",
     "text": [
      "Optimising population:\n"
     ]
    },
    {
     "name": "stderr",
     "output_type": "stream",
     "text": [
      " 34%|███▍      | 34/100 [06:16<12:11, 11.08s/it]"
     ]
    }
   ],
   "source": [
    "# create test subjects and test populations\n",
    "\n",
    "n_genes = 1000 # number of genes (population)\n",
    "\n",
    "n_iterations = 100\n",
    "\n",
    "companies = {'Zeix': 20, 'SCS Supercomputing Systems': 20, 'Kyburz': 20, 'Siemens Mobility AG': 20, 'Varian': 20, \n",
    "             'MAN Energy Solutions':20, 'Universitätsspital Zürich': 20, 'Acht Grad Ost': 20, 'Weidmann': 20, \n",
    "             'True Wealth': 20, 'PartnerRe': 20, 'Sensirion': 20, 'Hocoma': 20}\n",
    "uni1 = {'Architektur (ETH)': 30, 'Biologie (ETH)': 60, 'Raumbezogene Ingenieurwissenschaften (ETH)': 16, \n",
    "        'Umweltingenieurwissenschaften (ETH)': 16, 'Autonome Agile Drohnen (UZH)': 40, \n",
    "        'Biodiversität in Zeit und Raum (UZH)': 24, 'Einblick in aktuelle Forschung am Physik-Institut (UZH)': 20}\n",
    "uni2 = {'Chemie (ETH)': 25, 'Materialwissenschaft (ETH)': 20, 'Medizin studieren an der ETH': 50, \n",
    "        'Pharmazeutische Wissenschaften (ETH)': 24, 'Physik (ETH)': 20, 'Illuminating the Chemistry of Life (UZH)': 30, \n",
    "        'Was ist ein Programm? (UZH)': 20}\n",
    "uni3 = {'Aktuelle Forschung am CERN (UZH)': 30, 'Hyperwürfel (UZH)': 20, 'Krebsforschung (UZH)': 20, \n",
    "        'Informatik (ETH)': 16, 'Informationstechnologie und Elektrotechnik (ETH)': 30, \n",
    "        'Maschineningenieurwissenschaften (ETH)': 40, 'Mathematik (ETH)': 30}\n",
    "workshops = {'Oberflächen und Farben': 20, 'Fourier-Reihen': 20, 'Datenexploration': 20, \n",
    "             'Astrophysik, Planetologie und Raumfahrt': 20, 'Molekulare Schalter – eine on/off-Beziehung': 12, \n",
    "             \"Let's Arduino\": 12, 'Die Hoffnung ist erneuerbar': 20, \"Swiss Young Physicists' Tournament\": 20, \n",
    "             'Von Big Data und Künstlicher Intelligenz zur Umweltinformatik': 16, \n",
    "             'Woher kommst du wirklich? Frag deine DNA!': 20, 'Astronomie': 20, \n",
    "             'Entsorgung, Recycling und Abwasserreinigung in Zürich': 16, \n",
    "             'Praktische Molekulargenetik: Wolbachia – auf der Suche nach Bakterien-DNA in selbstgefangenen Insekt': 14, \n",
    "             'Energiespeicherung – Vom Akku bis zum Pump-Speicherstausee': 20}\n",
    "\n",
    "blocks = {'companies': companies, 'uni1': uni1, 'uni2': uni2, 'uni3': uni3, 'workshops': workshops}\n",
    "block_names = [block for block in blocks.keys()]\n",
    "\n",
    "multipliers = [50, 2, 1]\n",
    "counter = [0, 0, 0]\n",
    "\n",
    "priorities_df = pd.read_json('priorities.json')\n",
    "n_people = len(priorities_df)\n",
    "\n",
    "choices_df = choices.get_choices(blocks, priorities_df)\n",
    "\n",
    "print('Generating initial population:')\n",
    "genes = {}\n",
    "for i in tqdm(range(n_genes)):\n",
    "    id = f'GID{i:05}'\n",
    "    gene_df = create_gene.get_gene(blocks, n_people)\n",
    "\n",
    "    fitness = calculate_fitness.calc_fitness(choices_df, gene_df, block_names, multipliers)\n",
    "\n",
    "    genes[id] = [gene_df, fitness]\n",
    "\n",
    "\n",
    "frac_elite = 0.1\n",
    "frac_lucky = 0.01\n",
    "\n",
    "print('Optimising population:')\n",
    "for i in tqdm(range(n_iterations)):\n",
    "    pool = select_mating_pool.get_mating_pool(genes, frac_elite, frac_lucky)\n",
    "\n",
    "    offsprings = crossover.get_offspring(pool, choices_df, blocks, n_genes, multipliers)\n",
    "\n",
    "    genes = offsprings\n",
    "\n",
    "\n",
    "# print(np.mean([genes[g][1] for g in genes]))\n",
    "\n",
    "best = genes[select_mating_pool.get_best(genes)][0]\n",
    "\n",
    "\n",
    "for block in blocks:\n",
    "    first = 0\n",
    "    second = 0\n",
    "    third = 0\n",
    "\n",
    "    print(f'{block}:')\n",
    "\n",
    "    for level in ['first', 'second', 'third']:\n",
    "\n",
    "        filter_col = [col for col in choices_df if col.startswith(f'{block}_{level}')]\n",
    "        number = choices_df[filter_col].isin(gene_df[block]).any(axis=1).sum()\n",
    "        print(f'{level} = {number}')\n"
   ]
  },
  {
   "cell_type": "code",
   "execution_count": null,
   "metadata": {},
   "outputs": [],
   "source": [
    "pickle.dump(choices_df, open('pickles/choices.pkl', 'wb'))\n",
    "pickle.dump(genes, open('pickles/genes.pkl', 'wb'))\n",
    "pickle.dump(best, open('pickles/best.pkl', 'wb'))"
   ]
  },
  {
   "cell_type": "code",
   "execution_count": 4,
   "metadata": {},
   "outputs": [],
   "source": [
    "for block in blocks:\n",
    "    l = [[o] * n for o, n in blocks[block].items()]\n"
   ]
  },
  {
   "cell_type": "code",
   "execution_count": 5,
   "metadata": {},
   "outputs": [
    {
     "name": "stdout",
     "output_type": "stream",
     "text": [
      "5.8 µs ± 46.3 ns per loop (mean ± std. dev. of 7 runs, 100,000 loops each)\n"
     ]
    }
   ],
   "source": [
    "%%timeit\n",
    "[item for sublist in l for item in sublist]"
   ]
  },
  {
   "cell_type": "code",
   "execution_count": 6,
   "metadata": {},
   "outputs": [
    {
     "name": "stdout",
     "output_type": "stream",
     "text": [
      "2.75 µs ± 24.1 ns per loop (mean ± std. dev. of 7 runs, 100,000 loops each)\n"
     ]
    }
   ],
   "source": [
    "%%timeit\n",
    "list(chain(*l))"
   ]
  },
  {
   "cell_type": "code",
   "execution_count": 7,
   "metadata": {},
   "outputs": [
    {
     "data": {
      "text/plain": [
       "1331"
      ]
     },
     "execution_count": 7,
     "metadata": {},
     "output_type": "execute_result"
    }
   ],
   "source": [
    "counter = [0, 0, 0]\n",
    "fitness = 0\n",
    "\n",
    "filter_col = [col for col in choices_df if col.startswith(f'uni1_first')]\n",
    "\n",
    "(choices_df[filter_col].isin(gene_df['uni1']).any(axis=1) * choices_df['total_score']).sum()\n",
    "\n",
    "\n"
   ]
  },
  {
   "cell_type": "code",
   "execution_count": 57,
   "metadata": {},
   "outputs": [],
   "source": [
    "first_choice = choices_df['uni1_first_0']\n",
    "gene_expression = gene_df['uni1']\n",
    "first_list = first_choice.tolist()\n",
    "gene_list = gene_expression.tolist()"
   ]
  },
  {
   "cell_type": "code",
   "execution_count": 58,
   "metadata": {},
   "outputs": [
    {
     "name": "stdout",
     "output_type": "stream",
     "text": [
      "0 Biologie (ETH)\n",
      "1 Biologie (ETH)\n",
      "2 Biologie (ETH)\n",
      "5 Autonome Agile Drohnen (UZH)\n",
      "9 Umweltingenieurwissenschaften (ETH)\n",
      "18 Autonome Agile Drohnen (UZH)\n",
      "26 Biologie (ETH)\n",
      "37 Raumbezogene Ingenieurwissenschaften (ETH)\n",
      "52 Raumbezogene Ingenieurwissenschaften (ETH)\n",
      "60 Autonome Agile Drohnen (UZH)\n",
      "65 Biologie (ETH)\n",
      "67 Biologie (ETH)\n",
      "77 Architektur (ETH)\n",
      "78 Biologie (ETH)\n",
      "81 Einblick in aktuelle Forschung am Physik-Institut (UZH)\n",
      "86 Autonome Agile Drohnen (UZH)\n",
      "92 Umweltingenieurwissenschaften (ETH)\n",
      "98 Architektur (ETH)\n",
      "100 Biologie (ETH)\n",
      "119 Biologie (ETH)\n",
      "122 Biologie (ETH)\n",
      "123 Autonome Agile Drohnen (UZH)\n",
      "125 Autonome Agile Drohnen (UZH)\n",
      "129 Biologie (ETH)\n",
      "137 Architektur (ETH)\n",
      "150 Autonome Agile Drohnen (UZH)\n",
      "152 Architektur (ETH)\n",
      "160 Autonome Agile Drohnen (UZH)\n",
      "163 Einblick in aktuelle Forschung am Physik-Institut (UZH)\n",
      "169 Autonome Agile Drohnen (UZH)\n",
      "171 Architektur (ETH)\n",
      "174 Raumbezogene Ingenieurwissenschaften (ETH)\n",
      "32\n"
     ]
    }
   ],
   "source": [
    "counter = 0\n",
    "for i, item in enumerate(first_list):\n",
    "    if item == gene_list[i]:\n",
    "        print(i, item)\n",
    "        counter += 1\n",
    "\n",
    "print(counter)"
   ]
  },
  {
   "cell_type": "code",
   "execution_count": 54,
   "metadata": {},
   "outputs": [
    {
     "data": {
      "text/plain": [
       "Hocoma    1\n",
       "Name: companies_second_12, dtype: int64"
      ]
     },
     "execution_count": 54,
     "metadata": {},
     "output_type": "execute_result"
    }
   ],
   "source": [
    "first_choice.value_counts()"
   ]
  },
  {
   "cell_type": "code",
   "execution_count": 23,
   "metadata": {},
   "outputs": [
    {
     "data": {
      "text/plain": [
       "'Universitätsspital Zürich'"
      ]
     },
     "execution_count": 23,
     "metadata": {},
     "output_type": "execute_result"
    }
   ],
   "source": [
    "gene_expression.iloc[16]"
   ]
  },
  {
   "cell_type": "code",
   "execution_count": 61,
   "metadata": {},
   "outputs": [
    {
     "ename": "KeyError",
     "evalue": "'total_score'",
     "output_type": "error",
     "traceback": [
      "\u001b[0;31m---------------------------------------------------------------------------\u001b[0m",
      "\u001b[0;31mKeyError\u001b[0m                                  Traceback (most recent call last)",
      "File \u001b[0;32m~/opt/anaconda3/envs/playground/lib/python3.10/site-packages/pandas/core/indexes/base.py:3803\u001b[0m, in \u001b[0;36mIndex.get_loc\u001b[0;34m(self, key, method, tolerance)\u001b[0m\n\u001b[1;32m   3802\u001b[0m \u001b[39mtry\u001b[39;00m:\n\u001b[0;32m-> 3803\u001b[0m     \u001b[39mreturn\u001b[39;00m \u001b[39mself\u001b[39;49m\u001b[39m.\u001b[39;49m_engine\u001b[39m.\u001b[39;49mget_loc(casted_key)\n\u001b[1;32m   3804\u001b[0m \u001b[39mexcept\u001b[39;00m \u001b[39mKeyError\u001b[39;00m \u001b[39mas\u001b[39;00m err:\n",
      "File \u001b[0;32m~/opt/anaconda3/envs/playground/lib/python3.10/site-packages/pandas/_libs/index.pyx:138\u001b[0m, in \u001b[0;36mpandas._libs.index.IndexEngine.get_loc\u001b[0;34m()\u001b[0m\n",
      "File \u001b[0;32m~/opt/anaconda3/envs/playground/lib/python3.10/site-packages/pandas/_libs/index.pyx:165\u001b[0m, in \u001b[0;36mpandas._libs.index.IndexEngine.get_loc\u001b[0;34m()\u001b[0m\n",
      "File \u001b[0;32mpandas/_libs/hashtable_class_helper.pxi:5745\u001b[0m, in \u001b[0;36mpandas._libs.hashtable.PyObjectHashTable.get_item\u001b[0;34m()\u001b[0m\n",
      "File \u001b[0;32mpandas/_libs/hashtable_class_helper.pxi:5753\u001b[0m, in \u001b[0;36mpandas._libs.hashtable.PyObjectHashTable.get_item\u001b[0;34m()\u001b[0m\n",
      "\u001b[0;31mKeyError\u001b[0m: 'total_score'",
      "\nThe above exception was the direct cause of the following exception:\n",
      "\u001b[0;31mKeyError\u001b[0m                                  Traceback (most recent call last)",
      "Cell \u001b[0;32mIn[61], line 1\u001b[0m\n\u001b[0;32m----> 1\u001b[0m choices_df[\u001b[39m'\u001b[39;49m\u001b[39mtotal_score\u001b[39;49m\u001b[39m'\u001b[39;49m]\n",
      "File \u001b[0;32m~/opt/anaconda3/envs/playground/lib/python3.10/site-packages/pandas/core/frame.py:3805\u001b[0m, in \u001b[0;36mDataFrame.__getitem__\u001b[0;34m(self, key)\u001b[0m\n\u001b[1;32m   3803\u001b[0m \u001b[39mif\u001b[39;00m \u001b[39mself\u001b[39m\u001b[39m.\u001b[39mcolumns\u001b[39m.\u001b[39mnlevels \u001b[39m>\u001b[39m \u001b[39m1\u001b[39m:\n\u001b[1;32m   3804\u001b[0m     \u001b[39mreturn\u001b[39;00m \u001b[39mself\u001b[39m\u001b[39m.\u001b[39m_getitem_multilevel(key)\n\u001b[0;32m-> 3805\u001b[0m indexer \u001b[39m=\u001b[39m \u001b[39mself\u001b[39;49m\u001b[39m.\u001b[39;49mcolumns\u001b[39m.\u001b[39;49mget_loc(key)\n\u001b[1;32m   3806\u001b[0m \u001b[39mif\u001b[39;00m is_integer(indexer):\n\u001b[1;32m   3807\u001b[0m     indexer \u001b[39m=\u001b[39m [indexer]\n",
      "File \u001b[0;32m~/opt/anaconda3/envs/playground/lib/python3.10/site-packages/pandas/core/indexes/base.py:3805\u001b[0m, in \u001b[0;36mIndex.get_loc\u001b[0;34m(self, key, method, tolerance)\u001b[0m\n\u001b[1;32m   3803\u001b[0m     \u001b[39mreturn\u001b[39;00m \u001b[39mself\u001b[39m\u001b[39m.\u001b[39m_engine\u001b[39m.\u001b[39mget_loc(casted_key)\n\u001b[1;32m   3804\u001b[0m \u001b[39mexcept\u001b[39;00m \u001b[39mKeyError\u001b[39;00m \u001b[39mas\u001b[39;00m err:\n\u001b[0;32m-> 3805\u001b[0m     \u001b[39mraise\u001b[39;00m \u001b[39mKeyError\u001b[39;00m(key) \u001b[39mfrom\u001b[39;00m \u001b[39merr\u001b[39;00m\n\u001b[1;32m   3806\u001b[0m \u001b[39mexcept\u001b[39;00m \u001b[39mTypeError\u001b[39;00m:\n\u001b[1;32m   3807\u001b[0m     \u001b[39m# If we have a listlike key, _check_indexing_error will raise\u001b[39;00m\n\u001b[1;32m   3808\u001b[0m     \u001b[39m#  InvalidIndexError. Otherwise we fall through and re-raise\u001b[39;00m\n\u001b[1;32m   3809\u001b[0m     \u001b[39m#  the TypeError.\u001b[39;00m\n\u001b[1;32m   3810\u001b[0m     \u001b[39mself\u001b[39m\u001b[39m.\u001b[39m_check_indexing_error(key)\n",
      "\u001b[0;31mKeyError\u001b[0m: 'total_score'"
     ]
    }
   ],
   "source": [
    "choices_df['total_score']"
   ]
  },
  {
   "cell_type": "code",
   "execution_count": null,
   "metadata": {},
   "outputs": [],
   "source": []
  }
 ],
 "metadata": {
  "kernelspec": {
   "display_name": "playground",
   "language": "python",
   "name": "python3"
  },
  "language_info": {
   "codemirror_mode": {
    "name": "ipython",
    "version": 3
   },
   "file_extension": ".py",
   "mimetype": "text/x-python",
   "name": "python",
   "nbconvert_exporter": "python",
   "pygments_lexer": "ipython3",
   "version": "3.10.9"
  },
  "vscode": {
   "interpreter": {
    "hash": "aac0515942b31977d27ce5101c9a74ea7d23555149f801c587545665ec644b42"
   }
  }
 },
 "nbformat": 4,
 "nbformat_minor": 2
}
