{
 "cells": [
  {
   "cell_type": "code",
   "execution_count": 1,
   "metadata": {},
   "outputs": [],
   "source": [
    "import pandas as pd\n",
    "import numpy as np\n",
    "from numpy.random import default_rng\n",
    "import random\n",
    "from itertools import chain\n",
    "import pickle\n",
    "\n",
    "import choices\n",
    "import create_gene\n",
    "import calculate_fitness\n",
    "import select_mating_pool\n",
    "import crossover\n",
    "\n",
    "from tqdm import tqdm\n",
    "\n",
    "rng = default_rng()"
   ]
  },
  {
   "cell_type": "code",
   "execution_count": 14,
   "metadata": {},
   "outputs": [
    {
     "name": "stdout",
     "output_type": "stream",
     "text": [
      "Generating initial population:\n"
     ]
    },
    {
     "name": "stderr",
     "output_type": "stream",
     "text": [
      "100%|██████████| 5000/5000 [00:56<00:00, 87.81it/s]"
     ]
    },
    {
     "name": "stdout",
     "output_type": "stream",
     "text": [
      "201125.0\n"
     ]
    },
    {
     "name": "stderr",
     "output_type": "stream",
     "text": [
      "\n"
     ]
    }
   ],
   "source": [
    "# create test subjects and test populations\n",
    "\n",
    "n_genes = 5000 # number of genes (population)\n",
    "\n",
    "companies = {'Zeix': 20, 'SCS Supercomputing Systems': 20, 'Kyburz': 20, 'Siemens Mobility AG': 20, 'Varian': 20, \n",
    "             'MAN Energy Solutions':20, 'Universitätsspital Zürich': 20, 'Acht Grad Ost': 20, 'Weidmann': 20, \n",
    "             'True Wealth': 20, 'PartnerRe': 20, 'Sensirion': 20, 'Hocoma': 20}\n",
    "uni1 = {'Architektur (ETH)': 30, 'Biologie (ETH)': 60, 'Raumbezogene Ingenieurwissenschaften (ETH)': 16, \n",
    "        'Umweltingenieurwissenschaften (ETH)': 16, 'Autonome Agile Drohnen (UZH)': 40, \n",
    "        'Biodiversität in Zeit und Raum (UZH)': 24, 'Einblick in aktuelle Forschung am Physik-Institut (UZH)': 20}\n",
    "uni2 = {'Chemie (ETH)': 25, 'Materialwissenschaft (ETH)': 20, 'Medizin studieren an der ETH': 50, \n",
    "        'Pharmazeutische Wissenschaften (ETH)': 24, 'Physik (ETH)': 20, 'Illuminating the Chemistry of Life (UZH)': 30, \n",
    "        'Was ist ein Programm? (UZH)': 20}\n",
    "uni3 = {'Aktuelle Forschung am CERN (UZH)': 30, 'Hyperwürfel (UZH)': 20, 'Krebsforschung (UZH)': 20, \n",
    "        'Informatik (ETH)': 16, 'Informationstechnologie und Elektrotechnik (ETH)': 30, \n",
    "        'Maschineningenieurwissenschaften (ETH)': 40, 'Mathematik (ETH)': 30}\n",
    "workshops = {'Oberflächen und Farben': 20, 'Fourier-Reihen': 20, 'Datenexploration': 20, \n",
    "             'Astrophysik, Planetologie und Raumfahrt': 20, 'Molekulare Schalter – eine on/off-Beziehung': 12, \n",
    "             \"Let's Arduino\": 12, 'Die Hoffnung ist erneuerbar': 20, \"Swiss Young Physicists' Tournament\": 20, \n",
    "             'Von Big Data und Künstlicher Intelligenz zur Umweltinformatik': 16, \n",
    "             'Woher kommst du wirklich? Frag deine DNA!': 20, 'Astronomie': 20, \n",
    "             'Entsorgung, Recycling und Abwasserreinigung in Zürich': 16, \n",
    "             'Praktische Molekulargenetik: Wolbachia – auf der Suche nach Bakterien-DNA in selbstgefangenen Insekt': 14, \n",
    "             'Energiespeicherung – Vom Akku bis zum Pump-Speicherstausee': 20}\n",
    "\n",
    "blocks = {'companies': companies, 'uni1': uni1, 'uni2': uni2, 'uni3': uni3, 'workshops': workshops}\n",
    "block_names = [block for block in blocks.keys()]\n",
    "\n",
    "multipliers = [50, 2, 1]\n",
    "counter = [0, 0, 0]\n",
    "\n",
    "priorities_df = pd.read_json('priorities.json')\n",
    "n_people = len(priorities_df)\n",
    "\n",
    "choices_df = choices.get_choices(blocks, priorities_df)\n",
    "\n",
    "print('Generating initial population:')\n",
    "genes_init = {}\n",
    "for i in tqdm(range(n_genes)):\n",
    "    id = f'GID{i:05}'\n",
    "    gene_df = create_gene.get_gene(blocks, n_people)\n",
    "\n",
    "    fitness = calculate_fitness.calc_fitness(choices_df, gene_df, block_names, multipliers)\n",
    "\n",
    "    genes_init[id] = [gene_df, fitness]\n",
    "\n",
    "top_ten = select_mating_pool.get_best(genes, 10)\n",
    "print(np.mean([genes_init[g][1] for g in top_ten]))\n"
   ]
  },
  {
   "cell_type": "code",
   "execution_count": 15,
   "metadata": {},
   "outputs": [
    {
     "name": "stdout",
     "output_type": "stream",
     "text": [
      "100 genes, initial score = 269600.0\n",
      "\n",
      "Optimising population:\n"
     ]
    },
    {
     "name": "stderr",
     "output_type": "stream",
     "text": [
      "100%|██████████| 10/10 [00:11<00:00,  1.14s/it]\n"
     ]
    },
    {
     "name": "stdout",
     "output_type": "stream",
     "text": [
      "100 genes, 10 iterations, score = 397900.0 (1.48x)\n",
      "\n",
      "companies   : first = 26 second = 22 third = 19 \n",
      "uni1        : first = 41 second = 37 third = 19 \n",
      "uni2        : first = 44 second = 31 third = 24 \n",
      "uni3        : first = 45 second = 25 third = 28 \n",
      "workshops   : first = 27 second = 18 third = 28 "
     ]
    },
    {
     "name": "stderr",
     "output_type": "stream",
     "text": [
      "100%|██████████| 100/100 [01:55<00:00,  1.16s/it]\n"
     ]
    },
    {
     "name": "stdout",
     "output_type": "stream",
     "text": [
      "100 genes, 100 iterations, score = 810250.0 (3.01x)\n",
      "\n",
      "companies   : first = 56 second = 22 third = 17 \n",
      "uni1        : first = 75 second = 25 third = 16 \n",
      "uni2        : first = 82 second = 26 third = 23 \n",
      "uni3        : first = 94 second = 20 third = 10 \n",
      "workshops   : first = 47 second = 29 third = 15 "
     ]
    },
    {
     "name": "stderr",
     "output_type": "stream",
     "text": [
      "  3%|▎         | 6/200 [00:07<03:57,  1.23s/it]\n"
     ]
    },
    {
     "ename": "KeyboardInterrupt",
     "evalue": "",
     "output_type": "error",
     "traceback": [
      "\u001b[0;31m---------------------------------------------------------------------------\u001b[0m",
      "\u001b[0;31mAttributeError\u001b[0m                            Traceback (most recent call last)",
      "File \u001b[0;32m~/opt/anaconda3/envs/playground/lib/python3.10/site-packages/pandas/core/generic.py:5914\u001b[0m, in \u001b[0;36mNDFrame.__setattr__\u001b[0;34m(self, name, value)\u001b[0m\n\u001b[1;32m   5913\u001b[0m \u001b[39mtry\u001b[39;00m:\n\u001b[0;32m-> 5914\u001b[0m     \u001b[39mobject\u001b[39;49m\u001b[39m.\u001b[39;49m\u001b[39m__getattribute__\u001b[39;49m(\u001b[39mself\u001b[39;49m, name)\n\u001b[1;32m   5915\u001b[0m     \u001b[39mreturn\u001b[39;00m \u001b[39mobject\u001b[39m\u001b[39m.\u001b[39m\u001b[39m__setattr__\u001b[39m(\u001b[39mself\u001b[39m, name, value)\n",
      "\u001b[0;31mAttributeError\u001b[0m: 'Series' object has no attribute '_cacher'",
      "\nDuring handling of the above exception, another exception occurred:\n",
      "\u001b[0;31mKeyboardInterrupt\u001b[0m                         Traceback (most recent call last)",
      "Cell \u001b[0;32mIn[15], line 22\u001b[0m\n\u001b[1;32m     19\u001b[0m \u001b[39mfor\u001b[39;00m i \u001b[39min\u001b[39;00m tqdm(\u001b[39mrange\u001b[39m(n_iterations)):\n\u001b[1;32m     20\u001b[0m     pool \u001b[39m=\u001b[39m select_mating_pool\u001b[39m.\u001b[39mget_mating_pool(genes, frac_elite, frac_lucky)\n\u001b[0;32m---> 22\u001b[0m     offsprings \u001b[39m=\u001b[39m crossover\u001b[39m.\u001b[39;49mget_offspring(pool, choices_df, blocks, n_genes, multipliers)\n\u001b[1;32m     24\u001b[0m     genes \u001b[39m=\u001b[39m offsprings\n\u001b[1;32m     27\u001b[0m top_ten \u001b[39m=\u001b[39m select_mating_pool\u001b[39m.\u001b[39mget_best(genes, \u001b[39m1\u001b[39m)\n",
      "File \u001b[0;32m~/Developer/selemint/crossover.py:35\u001b[0m, in \u001b[0;36mget_offspring\u001b[0;34m(pool, choices_fd, blocks, n_genes, multipliers)\u001b[0m\n\u001b[1;32m     32\u001b[0m         random_value \u001b[39m=\u001b[39m rng\u001b[39m.\u001b[39mrandom(size\u001b[39m=\u001b[39mn_people)\n\u001b[1;32m     33\u001b[0m         off_fd[\u001b[39mf\u001b[39m\u001b[39m'\u001b[39m\u001b[39m{\u001b[39;00mblock\u001b[39m}\u001b[39;00m\u001b[39m'\u001b[39m] \u001b[39m=\u001b[39m (np\u001b[39m.\u001b[39mwhere(random_value \u001b[39m<\u001b[39m rate, random\u001b[39m.\u001b[39mchoice(options), off_fd[\u001b[39mf\u001b[39m\u001b[39m'\u001b[39m\u001b[39m{\u001b[39;00mblock\u001b[39m}\u001b[39;00m\u001b[39m'\u001b[39m]))\n\u001b[0;32m---> 35\u001b[0m     fitness \u001b[39m=\u001b[39m calculate_fitness\u001b[39m.\u001b[39;49mcalc_fitness(choices_fd, off_fd, block_names, multipliers)\n\u001b[1;32m     37\u001b[0m     offsprings[\u001b[39mid\u001b[39m] \u001b[39m=\u001b[39m [off_fd, fitness]\n\u001b[1;32m     39\u001b[0m \u001b[39mreturn\u001b[39;00m offsprings\n",
      "File \u001b[0;32m~/Developer/selemint/calculate_fitness.py:16\u001b[0m, in \u001b[0;36mcalc_fitness\u001b[0;34m(choices_df, gene_df, block_names, multipliers)\u001b[0m\n\u001b[1;32m     13\u001b[0m     \u001b[39mfor\u001b[39;00m i, level \u001b[39min\u001b[39;00m \u001b[39menumerate\u001b[39m([\u001b[39m'\u001b[39m\u001b[39mfirst\u001b[39m\u001b[39m'\u001b[39m, \u001b[39m'\u001b[39m\u001b[39mseconds\u001b[39m\u001b[39m'\u001b[39m, \u001b[39m'\u001b[39m\u001b[39mthirds\u001b[39m\u001b[39m'\u001b[39m]):\n\u001b[1;32m     14\u001b[0m         filter_col \u001b[39m=\u001b[39m [col \u001b[39mfor\u001b[39;00m col \u001b[39min\u001b[39;00m choices_df \u001b[39mif\u001b[39;00m col\u001b[39m.\u001b[39mstartswith(\u001b[39mf\u001b[39m\u001b[39m'\u001b[39m\u001b[39m{\u001b[39;00mblock\u001b[39m}\u001b[39;00m\u001b[39m_\u001b[39m\u001b[39m{\u001b[39;00mlevel\u001b[39m}\u001b[39;00m\u001b[39m'\u001b[39m)]\n\u001b[0;32m---> 16\u001b[0m         counter[i] \u001b[39m=\u001b[39m (choices_df[filter_col]\u001b[39m.\u001b[39misin(gene_df[block])\u001b[39m.\u001b[39many(axis\u001b[39m=\u001b[39m\u001b[39m1\u001b[39m) \n\u001b[1;32m     17\u001b[0m                       \u001b[39m*\u001b[39m choices_df[\u001b[39m'\u001b[39m\u001b[39mtotal_score\u001b[39m\u001b[39m'\u001b[39m])\u001b[39m.\u001b[39msum()\n\u001b[1;32m     19\u001b[0m     fitness \u001b[39m+\u001b[39m\u001b[39m=\u001b[39m np\u001b[39m.\u001b[39marray([c \u001b[39m*\u001b[39m m \u001b[39mfor\u001b[39;00m c, m \u001b[39min\u001b[39;00m \u001b[39mzip\u001b[39m(counter, multipliers)])\u001b[39m.\u001b[39msum()\n\u001b[1;32m     21\u001b[0m \u001b[39mreturn\u001b[39;00m fitness\n",
      "File \u001b[0;32m~/opt/anaconda3/envs/playground/lib/python3.10/site-packages/pandas/core/frame.py:3772\u001b[0m, in \u001b[0;36mDataFrame.__getitem__\u001b[0;34m(self, key)\u001b[0m\n\u001b[1;32m   3765\u001b[0m \u001b[39m# GH#45316 Return view if key is not duplicated\u001b[39;00m\n\u001b[1;32m   3766\u001b[0m \u001b[39m# Only use drop_duplicates with duplicates for performance\u001b[39;00m\n\u001b[1;32m   3767\u001b[0m \u001b[39mif\u001b[39;00m \u001b[39mnot\u001b[39;00m is_mi \u001b[39mand\u001b[39;00m (\n\u001b[1;32m   3768\u001b[0m     \u001b[39mself\u001b[39m\u001b[39m.\u001b[39mcolumns\u001b[39m.\u001b[39mis_unique\n\u001b[1;32m   3769\u001b[0m     \u001b[39mand\u001b[39;00m key \u001b[39min\u001b[39;00m \u001b[39mself\u001b[39m\u001b[39m.\u001b[39mcolumns\n\u001b[1;32m   3770\u001b[0m     \u001b[39mor\u001b[39;00m key \u001b[39min\u001b[39;00m \u001b[39mself\u001b[39m\u001b[39m.\u001b[39mcolumns\u001b[39m.\u001b[39mdrop_duplicates(keep\u001b[39m=\u001b[39m\u001b[39mFalse\u001b[39;00m)\n\u001b[1;32m   3771\u001b[0m ):\n\u001b[0;32m-> 3772\u001b[0m     \u001b[39mreturn\u001b[39;00m \u001b[39mself\u001b[39;49m\u001b[39m.\u001b[39;49m_get_item_cache(key)\n\u001b[1;32m   3774\u001b[0m \u001b[39melif\u001b[39;00m is_mi \u001b[39mand\u001b[39;00m \u001b[39mself\u001b[39m\u001b[39m.\u001b[39mcolumns\u001b[39m.\u001b[39mis_unique \u001b[39mand\u001b[39;00m key \u001b[39min\u001b[39;00m \u001b[39mself\u001b[39m\u001b[39m.\u001b[39mcolumns:\n\u001b[1;32m   3775\u001b[0m     \u001b[39mreturn\u001b[39;00m \u001b[39mself\u001b[39m\u001b[39m.\u001b[39m_getitem_multilevel(key)\n",
      "File \u001b[0;32m~/opt/anaconda3/envs/playground/lib/python3.10/site-packages/pandas/core/frame.py:4280\u001b[0m, in \u001b[0;36mDataFrame._get_item_cache\u001b[0;34m(self, item)\u001b[0m\n\u001b[1;32m   4275\u001b[0m \u001b[39mif\u001b[39;00m res \u001b[39mis\u001b[39;00m \u001b[39mNone\u001b[39;00m:\n\u001b[1;32m   4276\u001b[0m     \u001b[39m# All places that call _get_item_cache have unique columns,\u001b[39;00m\n\u001b[1;32m   4277\u001b[0m     \u001b[39m#  pending resolution of GH#33047\u001b[39;00m\n\u001b[1;32m   4279\u001b[0m     loc \u001b[39m=\u001b[39m \u001b[39mself\u001b[39m\u001b[39m.\u001b[39mcolumns\u001b[39m.\u001b[39mget_loc(item)\n\u001b[0;32m-> 4280\u001b[0m     res \u001b[39m=\u001b[39m \u001b[39mself\u001b[39;49m\u001b[39m.\u001b[39;49m_ixs(loc, axis\u001b[39m=\u001b[39;49m\u001b[39m1\u001b[39;49m)\n\u001b[1;32m   4282\u001b[0m     cache[item] \u001b[39m=\u001b[39m res\n\u001b[1;32m   4284\u001b[0m     \u001b[39m# for a chain\u001b[39;00m\n",
      "File \u001b[0;32m~/opt/anaconda3/envs/playground/lib/python3.10/site-packages/pandas/core/frame.py:3732\u001b[0m, in \u001b[0;36mDataFrame._ixs\u001b[0;34m(self, i, axis)\u001b[0m\n\u001b[1;32m   3729\u001b[0m result \u001b[39m=\u001b[39m \u001b[39mself\u001b[39m\u001b[39m.\u001b[39m_box_col_values(col_mgr, i)\n\u001b[1;32m   3731\u001b[0m \u001b[39m# this is a cached value, mark it so\u001b[39;00m\n\u001b[0;32m-> 3732\u001b[0m result\u001b[39m.\u001b[39;49m_set_as_cached(label, \u001b[39mself\u001b[39;49m)\n\u001b[1;32m   3733\u001b[0m \u001b[39mreturn\u001b[39;00m result\n",
      "File \u001b[0;32m~/opt/anaconda3/envs/playground/lib/python3.10/site-packages/pandas/core/series.py:1272\u001b[0m, in \u001b[0;36mSeries._set_as_cached\u001b[0;34m(self, item, cacher)\u001b[0m\n\u001b[1;32m   1267\u001b[0m \u001b[39mdef\u001b[39;00m \u001b[39m_set_as_cached\u001b[39m(\u001b[39mself\u001b[39m, item, cacher) \u001b[39m-\u001b[39m\u001b[39m>\u001b[39m \u001b[39mNone\u001b[39;00m:\n\u001b[1;32m   1268\u001b[0m     \u001b[39m\"\"\"\u001b[39;00m\n\u001b[1;32m   1269\u001b[0m \u001b[39m    Set the _cacher attribute on the calling object with a weakref to\u001b[39;00m\n\u001b[1;32m   1270\u001b[0m \u001b[39m    cacher.\u001b[39;00m\n\u001b[1;32m   1271\u001b[0m \u001b[39m    \"\"\"\u001b[39;00m\n\u001b[0;32m-> 1272\u001b[0m     \u001b[39mself\u001b[39m\u001b[39m.\u001b[39m_cacher \u001b[39m=\u001b[39m (item, weakref\u001b[39m.\u001b[39mref(cacher))\n",
      "File \u001b[0;32m~/opt/anaconda3/envs/playground/lib/python3.10/site-packages/pandas/core/generic.py:5914\u001b[0m, in \u001b[0;36mNDFrame.__setattr__\u001b[0;34m(self, name, value)\u001b[0m\n\u001b[1;32m   5909\u001b[0m \u001b[39m# first try regular attribute access via __getattribute__, so that\u001b[39;00m\n\u001b[1;32m   5910\u001b[0m \u001b[39m# e.g. ``obj.x`` and ``obj.x = 4`` will always reference/modify\u001b[39;00m\n\u001b[1;32m   5911\u001b[0m \u001b[39m# the same attribute.\u001b[39;00m\n\u001b[1;32m   5913\u001b[0m \u001b[39mtry\u001b[39;00m:\n\u001b[0;32m-> 5914\u001b[0m     \u001b[39mobject\u001b[39;49m\u001b[39m.\u001b[39;49m\u001b[39m__getattribute__\u001b[39;49m(\u001b[39mself\u001b[39;49m, name)\n\u001b[1;32m   5915\u001b[0m     \u001b[39mreturn\u001b[39;00m \u001b[39mobject\u001b[39m\u001b[39m.\u001b[39m\u001b[39m__setattr__\u001b[39m(\u001b[39mself\u001b[39m, name, value)\n\u001b[1;32m   5916\u001b[0m \u001b[39mexcept\u001b[39;00m \u001b[39mAttributeError\u001b[39;00m:\n",
      "\u001b[0;31mKeyboardInterrupt\u001b[0m: "
     ]
    }
   ],
   "source": [
    "\n",
    "n_iterations_list = [10, 100, 200]\n",
    "n_genes_list = [100, 500, 5000]\n",
    "\n",
    "frac_elite = 0.1\n",
    "frac_lucky = 0.01\n",
    "\n",
    "for n_genes in n_genes_list:\n",
    "\n",
    "    genes = dict(list(genes_init.items())[:n_genes])\n",
    "    \n",
    "    top_ten = select_mating_pool.get_best(genes, 1)\n",
    "    initial_score = np.mean([genes[g][1] for g in top_ten])\n",
    "    print(f'{n_genes} genes, initial score = {initial_score}\\n')\n",
    "\n",
    "    print('Optimising population:')\n",
    "\n",
    "    for n_iterations in n_iterations_list:\n",
    "\n",
    "        for i in tqdm(range(n_iterations)):\n",
    "            pool = select_mating_pool.get_mating_pool(genes, frac_elite, frac_lucky)\n",
    "\n",
    "            offsprings = crossover.get_offspring(pool, choices_df, blocks, n_genes, multipliers)\n",
    "\n",
    "            genes = offsprings\n",
    "\n",
    "\n",
    "        top_ten = select_mating_pool.get_best(genes, 1)\n",
    "        score = np.mean([genes[g][1] for g in top_ten])\n",
    "        print(f'{n_genes} genes, {n_iterations} iterations, score = {score} ({score/initial_score:.2f}x)')\n",
    "\n",
    "        best = genes[top_ten[0]][0]\n",
    "\n",
    "        for block in blocks:\n",
    "            first = 0\n",
    "            second = 0\n",
    "            third = 0\n",
    "\n",
    "            print(f'\\n{block:<12}:', end=' ')\n",
    "\n",
    "            for level in ['first', 'second', 'third']:\n",
    "\n",
    "                filter_col = [col for col in choices_df if col.startswith(f'{block}_{level}')]\n",
    "                number = choices_df[filter_col].isin(best[block]).any(axis=1).sum()\n",
    "                print(f'{level} = {number}', end=' ')"
   ]
  },
  {
   "cell_type": "code",
   "execution_count": null,
   "metadata": {},
   "outputs": [],
   "source": [
    "pickle.dump(choices_df, open('pickles/choices.pkl', 'wb'))\n",
    "pickle.dump(genes, open('pickles/genes.pkl', 'wb'))\n",
    "pickle.dump(best, open('pickles/best.pkl', 'wb'))"
   ]
  },
  {
   "cell_type": "code",
   "execution_count": 4,
   "metadata": {},
   "outputs": [],
   "source": [
    "for block in blocks:\n",
    "    l = [[o] * n for o, n in blocks[block].items()]\n"
   ]
  },
  {
   "cell_type": "code",
   "execution_count": 5,
   "metadata": {},
   "outputs": [
    {
     "name": "stdout",
     "output_type": "stream",
     "text": [
      "5.8 µs ± 46.3 ns per loop (mean ± std. dev. of 7 runs, 100,000 loops each)\n"
     ]
    }
   ],
   "source": [
    "%%timeit\n",
    "[item for sublist in l for item in sublist]"
   ]
  },
  {
   "cell_type": "code",
   "execution_count": 6,
   "metadata": {},
   "outputs": [
    {
     "name": "stdout",
     "output_type": "stream",
     "text": [
      "2.75 µs ± 24.1 ns per loop (mean ± std. dev. of 7 runs, 100,000 loops each)\n"
     ]
    }
   ],
   "source": [
    "%%timeit\n",
    "list(chain(*l))"
   ]
  },
  {
   "cell_type": "code",
   "execution_count": 16,
   "metadata": {},
   "outputs": [],
   "source": [
    "genes = dict(list(genes.items())[:10])"
   ]
  },
  {
   "cell_type": "code",
   "execution_count": 18,
   "metadata": {},
   "outputs": [
    {
     "data": {
      "text/plain": [
       "dict_keys(['GID00000', 'GID00001', 'GID00002', 'GID00003', 'GID00004', 'GID00005', 'GID00006', 'GID00007', 'GID00008', 'GID00009'])"
      ]
     },
     "execution_count": 18,
     "metadata": {},
     "output_type": "execute_result"
    }
   ],
   "source": [
    "genes.keys()"
   ]
  },
  {
   "cell_type": "code",
   "execution_count": 10,
   "metadata": {},
   "outputs": [
    {
     "data": {
      "text/plain": [
       "5000"
      ]
     },
     "execution_count": 10,
     "metadata": {},
     "output_type": "execute_result"
    }
   ],
   "source": [
    "len(genes)"
   ]
  },
  {
   "cell_type": "code",
   "execution_count": null,
   "metadata": {},
   "outputs": [],
   "source": []
  }
 ],
 "metadata": {
  "kernelspec": {
   "display_name": "playground",
   "language": "python",
   "name": "python3"
  },
  "language_info": {
   "codemirror_mode": {
    "name": "ipython",
    "version": 3
   },
   "file_extension": ".py",
   "mimetype": "text/x-python",
   "name": "python",
   "nbconvert_exporter": "python",
   "pygments_lexer": "ipython3",
   "version": "3.10.9"
  },
  "vscode": {
   "interpreter": {
    "hash": "aac0515942b31977d27ce5101c9a74ea7d23555149f801c587545665ec644b42"
   }
  }
 },
 "nbformat": 4,
 "nbformat_minor": 2
}
