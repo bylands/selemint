{
 "cells": [
  {
   "cell_type": "code",
   "execution_count": 1,
   "metadata": {},
   "outputs": [],
   "source": [
    "import pandas as pd\n",
    "import numpy as np\n",
    "from numpy.random import default_rng\n",
    "import random\n",
    "from itertools import chain\n",
    "\n",
    "import create_test_data\n",
    "import create_gene\n",
    "import calculate_fitness\n",
    "import select_mating_pool\n",
    "import crossover\n",
    "\n",
    "from tqdm import tqdm\n",
    "\n",
    "rng = default_rng()"
   ]
  },
  {
   "cell_type": "code",
   "execution_count": 5,
   "metadata": {},
   "outputs": [
    {
     "name": "stdout",
     "output_type": "stream",
     "text": [
      "Generating initial population:\n"
     ]
    },
    {
     "name": "stderr",
     "output_type": "stream",
     "text": [
      "100%|██████████| 2000/2000 [00:05<00:00, 379.16it/s]\n"
     ]
    },
    {
     "name": "stdout",
     "output_type": "stream",
     "text": [
      "Optimising population:\n"
     ]
    },
    {
     "name": "stderr",
     "output_type": "stream",
     "text": [
      "100%|██████████| 200/200 [20:02<00:00,  6.01s/it]"
     ]
    },
    {
     "name": "stdout",
     "output_type": "stream",
     "text": [
      "companies\n",
      "first = 3, second = 83, third = 45\n",
      "uni1\n",
      "first = 17, second = 156, third = 73\n",
      "uni2\n",
      "first = 7, second = 227, third = 121\n",
      "uni3\n",
      "first = 7, second = 308, third = 152\n",
      "workshops\n",
      "first = 150, second = 308, third = 152\n"
     ]
    },
    {
     "name": "stderr",
     "output_type": "stream",
     "text": [
      "\n"
     ]
    }
   ],
   "source": [
    "# create test subjects and test populations\n",
    "\n",
    "n_people = 150 # number of people\n",
    "\n",
    "n_genes = 2000 # number of genes (population)\n",
    "\n",
    "n_iterations = 200\n",
    "\n",
    "companies = {'Zeix': 20, 'SCS': 20, 'Kyburz': 20, 'Siemens': 20, 'Varian': 20, 'MAN':20, 'USZ': 20, \n",
    "             'Acht Grad Ost': 20, 'Weidmann': 20, 'True Wealth': 20, 'PartnerRe': 20, 'Sensirion': 20, 'Hocoma': 20}\n",
    "uni1 = {'Architektur': 30, 'Biologie (ETH)': 60, 'Raum (ETH)': 16, 'Umwelt (ETH)': 16, \n",
    "        'Drohnen (UZH)': 40, 'Biodiversität (UZH)': 24, 'Physik (UZH)': 20}\n",
    "uni2 = {'Chemie (ETH)': 25, 'Material (ETH)': 20, 'Medizin (ETH)': 50, 'Pharma (ETH)': 24, 'Physik (ETH)': 20,\n",
    "        'Chemie (UZH)': 30, 'Informatik (UZH)': 20}\n",
    "uni3 = {'CERN (UZH)': 30, 'Hyperwürfel (UZH)': 20, 'Krebsforschung (UZH)': 20, \n",
    "        'Informatik (ETH)': 16, 'Elektrotechnik (ETH)': 30, 'Maschinen (ETH)': 40, 'Mathematik (ETH)': 30}\n",
    "workshops = {'Oberflächen und Farben': 20, 'Fourier': 20, 'Datenexploration': 20, 'Astrophysik': 20,\n",
    "             'Molekulare Schalter': 12, 'Arduino': 12, 'Erneuerbar': 20, 'SYPT': 20, 'Big Data': 16, \n",
    "             'DNA': 20, 'Astronomie': 20, 'Recycling': 16, 'Molekulargenetik': 14, 'Energiespeicherung': 20}\n",
    "\n",
    "blocks = {'companies': companies, 'uni1': uni1, 'uni2': uni2, 'uni3': uni3, 'workshops': workshops}\n",
    "block_names = [block for block in blocks.keys()]\n",
    "\n",
    "multipliers = [50, 2, 1]\n",
    "counter = [0, 0, 0]\n",
    "\n",
    "choices_df = create_test_data.get_choices(blocks, n_people)\n",
    "\n",
    "print('Generating initial population:')\n",
    "genes = {}\n",
    "for i in tqdm(range(n_genes)):\n",
    "    id = f'GID{i:05}'\n",
    "    gene_df = create_gene.get_gene(blocks, n_people)\n",
    "\n",
    "    fitness = calculate_fitness.calc_fitness(choices_df, gene_df, block_names, multipliers)\n",
    "\n",
    "    genes[id] = [gene_df, fitness]\n",
    "\n",
    "\n",
    "frac_elite = 0.1\n",
    "frac_lucky = 0.005\n",
    "\n",
    "print('Optimising population:')\n",
    "for i in tqdm(range(n_iterations)):\n",
    "    pool = select_mating_pool.get_mating_pool(genes, frac_elite, frac_lucky)\n",
    "\n",
    "    offsprings = crossover.get_offspring(pool, choices_df, blocks, n_genes, multipliers)\n",
    "\n",
    "    genes = offsprings\n",
    "\n",
    "\n",
    "# print(np.mean([genes[g][1] for g in genes]))\n",
    "\n",
    "best = genes[select_mating_pool.get_best(genes)][0]\n",
    "\n",
    "first = 0\n",
    "second = 0\n",
    "third = 0\n",
    "\n",
    "for block in blocks:\n",
    "        \n",
    "    first = (choices_df[f'{block}_first_choice'] == best[f'{block}']).sum()\n",
    "\n",
    "    for c, g, s in zip(choices_df[f'{block}_second_choices'], best[f'{block}'], choices_df['total_score']):\n",
    "        if g in c:\n",
    "            second += 1\n",
    "\n",
    "    for c, g, s in zip(choices_df[f'{block}_third_choices'], best[f'{block}'], choices_df['total_score']):\n",
    "        if g in c:\n",
    "            third += 1\n",
    "\n",
    "    print(block)\n",
    "    print(f'{first = }, {second = }, {third = }')"
   ]
  },
  {
   "cell_type": "code",
   "execution_count": 2,
   "metadata": {},
   "outputs": [],
   "source": [
    "companies = {'Zeix': 20, 'SCS': 20, 'Kyburz': 20, 'Siemens': 20, 'Varian': 20, 'MAN':20, 'USZ': 20, \n",
    "             'Acht Grad Ost': 20, 'Weidmann': 20, 'True Wealth': 20, 'PartnerRe': 20, 'Sensirion': 20, 'Hocoma': 20}\n",
    "uni1 = {'Architektur': 30, 'Biologie (ETH)': 60, 'Raum (ETH)': 16, 'Umwelt (ETH)': 16, \n",
    "        'Drohnen (UZH)': 40, 'Biodiversität (UZH)': 24, 'Physik (UZH)': 20}\n",
    "uni2 = {'Chemie (ETH)': 25, 'Material (ETH)': 20, 'Medizin (ETH)': 50, 'Pharma (ETH)': 24, 'Physik (ETH)': 20,\n",
    "        'Chemie (UZH)': 30, 'Informatik (UZH)': 20}\n",
    "uni3 = {'CERN (UZH)': 30, 'Hyperwürfel (UZH)': 20, 'Krebsforschung (UZH)': 20, \n",
    "        'Informatik (ETH)': 16, 'Elektrotechnik (ETH)': 30, 'Maschinen (ETH)': 40, 'Mathematik (ETH)': 30}\n",
    "workshops = {'Oberflächen und Farben': 20, 'Fourier': 20, 'Datenexploration': 20, 'Astrophysik': 20,\n",
    "             'Molekulare Schalter': 12, 'Arduino': 12, 'Erneuerbar': 20, 'SYPT': 20, 'Big Data': 16, \n",
    "             'DNA': 20, 'Astronomie': 20, 'Recycling': 16, 'Molekulargenetik': 14, 'Energiespeicherung': 20}\n",
    "\n",
    "blocks = {'companies': companies, 'uni1': uni1, 'uni2': uni2, 'uni3': uni3, 'workshops': workshops}\n",
    "block_names = [block for block in blocks.keys()]"
   ]
  },
  {
   "cell_type": "code",
   "execution_count": 5,
   "metadata": {},
   "outputs": [],
   "source": [
    "n_people = 10\n",
    "multipliers = [50, 5, 1]\n",
    "choices_df = create_test_data.get_choices(blocks, n_people)\n",
    "gene_df = create_gene.get_gene(blocks, n_people)\n",
    "fitness = calculate_fitness.calc_fitness(choices_df, gene_df, block_names, multipliers)"
   ]
  },
  {
   "cell_type": "code",
   "execution_count": 6,
   "metadata": {},
   "outputs": [
    {
     "data": {
      "text/html": [
       "<div>\n",
       "<style scoped>\n",
       "    .dataframe tbody tr th:only-of-type {\n",
       "        vertical-align: middle;\n",
       "    }\n",
       "\n",
       "    .dataframe tbody tr th {\n",
       "        vertical-align: top;\n",
       "    }\n",
       "\n",
       "    .dataframe thead th {\n",
       "        text-align: right;\n",
       "    }\n",
       "</style>\n",
       "<table border=\"1\" class=\"dataframe\">\n",
       "  <thead>\n",
       "    <tr style=\"text-align: right;\">\n",
       "      <th></th>\n",
       "      <th>companies</th>\n",
       "      <th>uni1</th>\n",
       "      <th>uni2</th>\n",
       "      <th>uni3</th>\n",
       "      <th>workshops</th>\n",
       "    </tr>\n",
       "  </thead>\n",
       "  <tbody>\n",
       "    <tr>\n",
       "      <th>ID000</th>\n",
       "      <td>SCS</td>\n",
       "      <td>Biologie (ETH)</td>\n",
       "      <td>Material (ETH)</td>\n",
       "      <td>Maschinen (ETH)</td>\n",
       "      <td>SYPT</td>\n",
       "    </tr>\n",
       "    <tr>\n",
       "      <th>ID001</th>\n",
       "      <td>MAN</td>\n",
       "      <td>Umwelt (ETH)</td>\n",
       "      <td>Medizin (ETH)</td>\n",
       "      <td>Elektrotechnik (ETH)</td>\n",
       "      <td>Erneuerbar</td>\n",
       "    </tr>\n",
       "    <tr>\n",
       "      <th>ID002</th>\n",
       "      <td>Varian</td>\n",
       "      <td>Architektur</td>\n",
       "      <td>Medizin (ETH)</td>\n",
       "      <td>CERN (UZH)</td>\n",
       "      <td>Fourier</td>\n",
       "    </tr>\n",
       "    <tr>\n",
       "      <th>ID003</th>\n",
       "      <td>Weidmann</td>\n",
       "      <td>Biologie (ETH)</td>\n",
       "      <td>Chemie (UZH)</td>\n",
       "      <td>CERN (UZH)</td>\n",
       "      <td>Recycling</td>\n",
       "    </tr>\n",
       "    <tr>\n",
       "      <th>ID004</th>\n",
       "      <td>USZ</td>\n",
       "      <td>Physik (UZH)</td>\n",
       "      <td>Material (ETH)</td>\n",
       "      <td>Maschinen (ETH)</td>\n",
       "      <td>Datenexploration</td>\n",
       "    </tr>\n",
       "    <tr>\n",
       "      <th>ID005</th>\n",
       "      <td>Zeix</td>\n",
       "      <td>Physik (UZH)</td>\n",
       "      <td>Medizin (ETH)</td>\n",
       "      <td>Informatik (ETH)</td>\n",
       "      <td>DNA</td>\n",
       "    </tr>\n",
       "    <tr>\n",
       "      <th>ID006</th>\n",
       "      <td>MAN</td>\n",
       "      <td>Architektur</td>\n",
       "      <td>Pharma (ETH)</td>\n",
       "      <td>CERN (UZH)</td>\n",
       "      <td>Big Data</td>\n",
       "    </tr>\n",
       "    <tr>\n",
       "      <th>ID007</th>\n",
       "      <td>Varian</td>\n",
       "      <td>Biologie (ETH)</td>\n",
       "      <td>Pharma (ETH)</td>\n",
       "      <td>Maschinen (ETH)</td>\n",
       "      <td>Energiespeicherung</td>\n",
       "    </tr>\n",
       "    <tr>\n",
       "      <th>ID008</th>\n",
       "      <td>Weidmann</td>\n",
       "      <td>Biologie (ETH)</td>\n",
       "      <td>Informatik (UZH)</td>\n",
       "      <td>Maschinen (ETH)</td>\n",
       "      <td>Arduino</td>\n",
       "    </tr>\n",
       "    <tr>\n",
       "      <th>ID009</th>\n",
       "      <td>Kyburz</td>\n",
       "      <td>Biologie (ETH)</td>\n",
       "      <td>Informatik (UZH)</td>\n",
       "      <td>CERN (UZH)</td>\n",
       "      <td>Astronomie</td>\n",
       "    </tr>\n",
       "  </tbody>\n",
       "</table>\n",
       "</div>"
      ],
      "text/plain": [
       "      companies            uni1              uni2                  uni3  \\\n",
       "ID000       SCS  Biologie (ETH)    Material (ETH)       Maschinen (ETH)   \n",
       "ID001       MAN    Umwelt (ETH)     Medizin (ETH)  Elektrotechnik (ETH)   \n",
       "ID002    Varian     Architektur     Medizin (ETH)            CERN (UZH)   \n",
       "ID003  Weidmann  Biologie (ETH)      Chemie (UZH)            CERN (UZH)   \n",
       "ID004       USZ    Physik (UZH)    Material (ETH)       Maschinen (ETH)   \n",
       "ID005      Zeix    Physik (UZH)     Medizin (ETH)      Informatik (ETH)   \n",
       "ID006       MAN     Architektur      Pharma (ETH)            CERN (UZH)   \n",
       "ID007    Varian  Biologie (ETH)      Pharma (ETH)       Maschinen (ETH)   \n",
       "ID008  Weidmann  Biologie (ETH)  Informatik (UZH)       Maschinen (ETH)   \n",
       "ID009    Kyburz  Biologie (ETH)  Informatik (UZH)            CERN (UZH)   \n",
       "\n",
       "                workshops  \n",
       "ID000                SYPT  \n",
       "ID001          Erneuerbar  \n",
       "ID002             Fourier  \n",
       "ID003           Recycling  \n",
       "ID004    Datenexploration  \n",
       "ID005                 DNA  \n",
       "ID006            Big Data  \n",
       "ID007  Energiespeicherung  \n",
       "ID008             Arduino  \n",
       "ID009          Astronomie  "
      ]
     },
     "execution_count": 6,
     "metadata": {},
     "output_type": "execute_result"
    }
   ],
   "source": [
    "gene_df"
   ]
  },
  {
   "cell_type": "code",
   "execution_count": 7,
   "metadata": {},
   "outputs": [
    {
     "data": {
      "text/plain": [
       "8140"
      ]
     },
     "execution_count": 7,
     "metadata": {},
     "output_type": "execute_result"
    }
   ],
   "source": [
    "fitness"
   ]
  },
  {
   "cell_type": "code",
   "execution_count": null,
   "metadata": {},
   "outputs": [],
   "source": []
  }
 ],
 "metadata": {
  "kernelspec": {
   "display_name": "playground",
   "language": "python",
   "name": "python3"
  },
  "language_info": {
   "codemirror_mode": {
    "name": "ipython",
    "version": 3
   },
   "file_extension": ".py",
   "mimetype": "text/x-python",
   "name": "python",
   "nbconvert_exporter": "python",
   "pygments_lexer": "ipython3",
   "version": "3.10.9"
  },
  "orig_nbformat": 4,
  "vscode": {
   "interpreter": {
    "hash": "aac0515942b31977d27ce5101c9a74ea7d23555149f801c587545665ec644b42"
   }
  }
 },
 "nbformat": 4,
 "nbformat_minor": 2
}
