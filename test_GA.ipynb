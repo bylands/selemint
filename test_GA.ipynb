{
 "cells": [
  {
   "cell_type": "code",
   "execution_count": 1,
   "metadata": {},
   "outputs": [],
   "source": [
    "import pandas as pd\n",
    "import numpy as np\n",
    "from numpy.random import default_rng\n",
    "import random\n",
    "\n",
    "import create_test_data\n",
    "import create_gene\n",
    "import calculate_fitness\n",
    "import select_mating_pool\n",
    "import crossover\n",
    "\n",
    "rng = default_rng()"
   ]
  },
  {
   "cell_type": "code",
   "execution_count": 2,
   "metadata": {},
   "outputs": [
    {
     "ename": "TypeError",
     "evalue": "calc_fitness() missing 1 required positional argument: 'counters'",
     "output_type": "error",
     "traceback": [
      "\u001b[0;31m---------------------------------------------------------------------------\u001b[0m",
      "\u001b[0;31mTypeError\u001b[0m                                 Traceback (most recent call last)",
      "Cell \u001b[0;32mIn[2], line 23\u001b[0m\n\u001b[1;32m     20\u001b[0m gene_df \u001b[39m=\u001b[39m create_gene\u001b[39m.\u001b[39mget_gene(options, n_people)\n\u001b[1;32m     22\u001b[0m opt_slots \u001b[39m=\u001b[39m {option: \u001b[39m1.5\u001b[39m \u001b[39m*\u001b[39m n_people\u001b[39m/\u001b[39m\u001b[39m/\u001b[39mn_options \u001b[39mfor\u001b[39;00m option \u001b[39min\u001b[39;00m options \u001b[39mif\u001b[39;00m gene_df[\u001b[39m'\u001b[39m\u001b[39mmodule\u001b[39m\u001b[39m'\u001b[39m]\u001b[39m.\u001b[39meq(option)\u001b[39m.\u001b[39many()}\n\u001b[0;32m---> 23\u001b[0m fitness \u001b[39m=\u001b[39m calculate_fitness\u001b[39m.\u001b[39;49mcalc_fitness(choices_df, gene_df, options, multipliers, counter)\n\u001b[1;32m     25\u001b[0m genes[\u001b[39mid\u001b[39m] \u001b[39m=\u001b[39m [gene_df, fitness]\n\u001b[1;32m     27\u001b[0m \u001b[39mif\u001b[39;00m i \u001b[39m%\u001b[39m (n_genes \u001b[39m/\u001b[39m\u001b[39m/\u001b[39m \u001b[39m10\u001b[39m) \u001b[39m==\u001b[39m \u001b[39m0\u001b[39m:\n",
      "\u001b[0;31mTypeError\u001b[0m: calc_fitness() missing 1 required positional argument: 'counters'"
     ]
    }
   ],
   "source": [
    "# create test subjects and test populations\n",
    "\n",
    "n_options = 15 # number of different options\n",
    "n_people = 150 # number of people\n",
    "\n",
    "n_genes = 100 # number of genes (population)\n",
    "\n",
    "n_iterations = 10\n",
    "\n",
    "options = [f'option {i}' for i in range(n_options)]\n",
    "\n",
    "multipliers = [10, 2, 1]\n",
    "counter = [0, 0, 0]\n",
    "\n",
    "choices_df = create_test_data.get_choices(options, n_people)\n",
    "\n",
    "genes = {}\n",
    "for i in range(n_genes):\n",
    "    id = f'GID{i:05}'\n",
    "    gene_df = create_gene.get_gene(options, n_people)\n",
    "\n",
    "    opt_slots = {option: 1.5 * n_people//n_options for option in options if gene_df['module'].eq(option).any()}\n",
    "    fitness = calculate_fitness.calc_fitness(choices_df, gene_df, multipliers)\n",
    "\n",
    "    genes[id] = [gene_df, fitness]\n",
    "\n",
    "    if i % (n_genes // 10) == 0:\n",
    "        print(f'gene {i} of {n_genes}')\n",
    "\n",
    "print(np.mean([genes[g][1] for g in genes]))\n",
    "\n",
    "frac_elite = 0.2\n",
    "frac_lucky = 0.02\n",
    "\n",
    "for i in range(n_iterations):\n",
    "    pool = select_mating_pool.get_mating_pool(genes, frac_elite, frac_lucky)\n",
    "\n",
    "    offsprings = crossover.get_offspring(pool, choices_df, options, n_genes, multipliers, counter)\n",
    "\n",
    "    genes = offsprings\n",
    "\n",
    "    if i % (n_iterations // 10) == 0:\n",
    "        # print(f'iteration {i} of {n_iterations}')\n",
    "        print(np.mean([genes[g][1] for g in genes]))\n",
    "\n",
    "    # print(np.mean([offsprings[g][1] for g in offsprings]))\n",
    "\n",
    "print(np.mean([genes[g][1] for g in genes]))\n",
    "\n",
    "best = genes[select_mating_pool.get_best(genes)][0]\n",
    "\n",
    "first = 0\n",
    "second = 0\n",
    "third = 0\n",
    "\n",
    "first = (choices_df['first_choice'] == best['module']).sum()\n",
    "\n",
    "for c, g, s in zip(choices_df['second_choices'], best['module'], choices_df['score']):\n",
    "    if g in c:\n",
    "        second += 1\n",
    "\n",
    "for c, g, s in zip(choices_df['third_choices'], best['module'], choices_df['score']):\n",
    "    if g in c:\n",
    "        third += 1\n",
    "\n",
    "print(f'{first = }, {second = }, {third = }')\n",
    "print(best.value_counts().head(15))\n",
    "\n",
    "# print(choices_fd)\n",
    "# print(gene_fd)"
   ]
  },
  {
   "cell_type": "code",
   "execution_count": 7,
   "metadata": {},
   "outputs": [
    {
     "ename": "NameError",
     "evalue": "name 'choices_df' is not defined",
     "output_type": "error",
     "traceback": [
      "\u001b[0;31m---------------------------------------------------------------------------\u001b[0m",
      "\u001b[0;31mNameError\u001b[0m                                 Traceback (most recent call last)",
      "Cell \u001b[0;32mIn[7], line 1\u001b[0m\n\u001b[0;32m----> 1\u001b[0m counter[\u001b[39m0\u001b[39m] \u001b[39m=\u001b[39m ((choices_df[\u001b[39m'\u001b[39m\u001b[39mfirst_choice\u001b[39m\u001b[39m'\u001b[39m] \u001b[39m==\u001b[39m gene_df[\u001b[39m'\u001b[39m\u001b[39mmodule\u001b[39m\u001b[39m'\u001b[39m]) \u001b[39m*\u001b[39m choices_df[\u001b[39m'\u001b[39m\u001b[39mscore\u001b[39m\u001b[39m'\u001b[39m])\u001b[39m.\u001b[39msum()\n",
      "\u001b[0;31mNameError\u001b[0m: name 'choices_df' is not defined"
     ]
    }
   ],
   "source": [
    "counter[0] = ((choices_df['first_choice'] == gene_df['module']) * choices_df['score']).sum()"
   ]
  },
  {
   "cell_type": "code",
   "execution_count": null,
   "metadata": {},
   "outputs": [],
   "source": [
    "%%timeit\n",
    "value = 1.5 * n_people//n_options\n",
    "opt_slots = {option: value for option in options if gene_fd['module'].eq(option).any()}\n"
   ]
  },
  {
   "cell_type": "code",
   "execution_count": null,
   "metadata": {},
   "outputs": [],
   "source": [
    "%%timeit\n",
    "\n",
    "# count 1st, 2nd, 3rd choices (method 1)\n",
    "\n",
    "test_fd = pd.DataFrame(choices_fd[['first_choice', 'second_choices', 'third_choices']])\n",
    "test_fd['module'] = gene_fd['module']\n",
    "\n",
    "count_first = (test_fd['first_choice'] == test_fd['module']).sum()\n",
    "test_array = test_fd.explode('second_choices')\n",
    "count_second = (test_array['second_choices'] == test_array['module']).sum()\n",
    "test_array = test_fd.explode('third_choices')\n",
    "count_third = (test_array['third_choices'] == test_array['module']).sum()"
   ]
  },
  {
   "cell_type": "code",
   "execution_count": null,
   "metadata": {},
   "outputs": [],
   "source": []
  },
  {
   "cell_type": "code",
   "execution_count": null,
   "metadata": {},
   "outputs": [],
   "source": [
    "fil1 = gene_fd['module'] == choices_fd['first_choice']\n",
    "fil2 = gene_fd['module'].astype(str).isin(choices_fd['second_choices'].astype(str))\n",
    "\n",
    "fil2"
   ]
  },
  {
   "cell_type": "code",
   "execution_count": null,
   "metadata": {},
   "outputs": [],
   "source": [
    "for g, c in zip(gene_fd['module'], choices_fd['second_choices']):\n",
    "    print(g in c)"
   ]
  },
  {
   "cell_type": "code",
   "execution_count": null,
   "metadata": {},
   "outputs": [],
   "source": [
    "\n",
    "n_options = 10\n",
    "options = [f'option {i}' for i in range(n_options)]\n",
    "\n",
    "n_people = 150\n",
    "\n",
    "id_list = []\n",
    "first_list = []\n",
    "second_list = []\n",
    "third_list = []\n",
    "\n",
    "for i in range(n_people):\n",
    "    id = f'ID{i:04}'\n",
    "\n",
    "    n2 = rng.integers(n_options)\n",
    "    n3 = rng.integers(n_options)\n",
    "\n",
    "    first = random.choice(options)\n",
    "    seconds = random.sample(options, k=n2)\n",
    "    thirds = random.sample(options, k=n3)\n",
    "\n",
    "    if first in seconds:\n",
    "        seconds.remove(first)\n",
    "\n",
    "    first_seconds = set(seconds).union(first)\n",
    "    for item in first_seconds:\n",
    "        if item in thirds:\n",
    "            thirds.remove(item)\n",
    "\n",
    "    id_list.append(id)\n",
    "    first_list.append(first)\n",
    "    second_list.append(seconds)\n",
    "    third_list.append(thirds)\n",
    "\n",
    "dict = {'ID': id_list, 'first_choice': first_list, 'second_choices': second_list, 'third_choices': third_list}\n",
    "\n",
    "df = pd.DataFrame(dict)"
   ]
  }
 ],
 "metadata": {
  "kernelspec": {
   "display_name": "playground",
   "language": "python",
   "name": "python3"
  },
  "language_info": {
   "codemirror_mode": {
    "name": "ipython",
    "version": 3
   },
   "file_extension": ".py",
   "mimetype": "text/x-python",
   "name": "python",
   "nbconvert_exporter": "python",
   "pygments_lexer": "ipython3",
   "version": "3.10.9"
  },
  "orig_nbformat": 4,
  "vscode": {
   "interpreter": {
    "hash": "aac0515942b31977d27ce5101c9a74ea7d23555149f801c587545665ec644b42"
   }
  }
 },
 "nbformat": 4,
 "nbformat_minor": 2
}
