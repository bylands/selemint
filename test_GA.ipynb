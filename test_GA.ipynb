{
 "cells": [
  {
   "cell_type": "code",
   "execution_count": 1,
   "metadata": {},
   "outputs": [],
   "source": [
    "import pandas as pd\n",
    "import numpy as np\n",
    "from numpy.random import default_rng\n",
    "import random\n",
    "from itertools import chain\n",
    "import pickle\n",
    "\n",
    "import choices\n",
    "import create_gene\n",
    "import calculate_fitness\n",
    "import select_mating_pool\n",
    "import crossover\n",
    "\n",
    "from tqdm import tqdm\n",
    "\n",
    "rng = default_rng()"
   ]
  },
  {
   "cell_type": "code",
   "execution_count": 2,
   "metadata": {},
   "outputs": [
    {
     "name": "stdout",
     "output_type": "stream",
     "text": [
      "Generating initial population:\n"
     ]
    },
    {
     "name": "stderr",
     "output_type": "stream",
     "text": [
      "  0%|          | 0/100 [00:00<?, ?it/s]\n"
     ]
    },
    {
     "ename": "NameError",
     "evalue": "name 'fitness' is not defined",
     "output_type": "error",
     "traceback": [
      "\u001b[0;31m---------------------------------------------------------------------------\u001b[0m",
      "\u001b[0;31mNameError\u001b[0m                                 Traceback (most recent call last)",
      "Cell \u001b[0;32mIn[2], line 47\u001b[0m\n\u001b[1;32m     43\u001b[0m     gene_df \u001b[39m=\u001b[39m create_gene\u001b[39m.\u001b[39mget_gene(blocks, n_people)\n\u001b[1;32m     45\u001b[0m     \u001b[39m# fitness = calculate_fitness.calc_fitness(choices_df, gene_df, block_names, multipliers)\u001b[39;00m\n\u001b[0;32m---> 47\u001b[0m     genes[\u001b[39mid\u001b[39m] \u001b[39m=\u001b[39m [gene_df, fitness]\n\u001b[1;32m     50\u001b[0m frac_elite \u001b[39m=\u001b[39m \u001b[39m0.1\u001b[39m\n\u001b[1;32m     51\u001b[0m frac_lucky \u001b[39m=\u001b[39m \u001b[39m0.01\u001b[39m\n",
      "\u001b[0;31mNameError\u001b[0m: name 'fitness' is not defined"
     ]
    }
   ],
   "source": [
    "# create test subjects and test populations\n",
    "\n",
    "n_genes = 100 # number of genes (population)\n",
    "\n",
    "n_iterations = 10\n",
    "\n",
    "companies = {'Zeix': 20, 'SCS Supercomputing Systems': 20, 'Kyburz': 20, 'Siemens Mobility AG': 20, 'Varian': 20, \n",
    "             'MAN Energy Solutions':20, 'Universitätsspital Zürich': 20, 'Acht Grad Ost': 20, 'Weidmann': 20, \n",
    "             'True Wealth': 20, 'PartnerRe': 20, 'Sensirion': 20, 'Hocoma': 20}\n",
    "uni1 = {'Architektur (ETH)': 30, 'Biologie (ETH)': 60, 'Raumbezogene Ingenieurwissenschaften (ETH)': 16, \n",
    "        'Umweltingenieurwissenschaften (ETH)': 16, 'Autonome Agile Drohnen (UZH)': 40, \n",
    "        'Biodiversität in Zeit und Raum (UZH)': 24, 'Einblick in aktuelle Forschung am Physik-Institut (UZH)': 20}\n",
    "uni2 = {'Chemie (ETH)': 25, 'Materialwissenschaft (ETH)': 20, 'Medizin studieren an der ETH': 50, \n",
    "        'Pharmazeutische Wissenschaften (ETH)': 24, 'Physik (ETH)': 20, 'Illuminating the Chemistry of Life (UZH)': 30, \n",
    "        'Was ist ein Programm? (UZH)': 20}\n",
    "uni3 = {'Aktuelle Forschung am CERN (UZH)': 30, 'Hyperwürfel (UZH)': 20, 'Krebsforschung (UZH)': 20, \n",
    "        'Informatik (ETH)': 16, 'Informationstechnologie und Elektrotechnik (ETH)': 30, \n",
    "        'Maschineningenieurwissenschaften (ETH)': 40, 'Mathematik (ETH)': 30}\n",
    "workshops = {'Oberflächen und Farben': 20, 'Fourier-Reihen': 20, 'Datenexploration': 20, \n",
    "             'Astrophysik, Planetologie und Raumfahrt': 20, 'Molekulare Schalter – eine on/off-Beziehung': 12, \n",
    "             \"Let's Arduino\": 12, 'Die Hoffnung ist erneuerbar': 20, \"Swiss Young Physicists' Tournament\": 20, \n",
    "             'Von Big Data und Künstlicher Intelligenz zur Umweltinformatik': 16, \n",
    "             'Woher kommst du wirklich? Frag deine DNA!': 20, 'Astronomie': 20, \n",
    "             'Entsorgung, Recycling und Abwasserreinigung in Zürich': 16, \n",
    "             'Praktische Molekulargenetik: Wolbachia – auf der Suche nach Bakterien-DNA in selbstgefangenen Insekt': 14, \n",
    "             'Energiespeicherung – Vom Akku bis zum Pump-Speicherstausee': 20}\n",
    "\n",
    "blocks = {'companies': companies, 'uni1': uni1, 'uni2': uni2, 'uni3': uni3, 'workshops': workshops}\n",
    "block_names = [block for block in blocks.keys()]\n",
    "\n",
    "multipliers = [50, 2, 1]\n",
    "counter = [0, 0, 0]\n",
    "\n",
    "priorities_df = pd.read_json('priorities.json')\n",
    "n_people = len(priorities_df)\n",
    "\n",
    "choices_df = choices.get_choices(blocks, priorities_df)\n",
    "\n",
    "print('Generating initial population:')\n",
    "genes = {}\n",
    "for i in tqdm(range(n_genes)):\n",
    "    id = f'GID{i:05}'\n",
    "    gene_df = create_gene.get_gene(blocks, n_people)\n",
    "\n",
    "    # fitness = calculate_fitness.calc_fitness(choices_df, gene_df, block_names, multipliers)\n",
    "\n",
    "    genes[id] = [gene_df, fitness]\n",
    "\n",
    "\n",
    "frac_elite = 0.1\n",
    "frac_lucky = 0.01\n",
    "\n",
    "print('Optimising population:')\n",
    "for i in tqdm(range(n_iterations)):\n",
    "    pool = select_mating_pool.get_mating_pool(genes, frac_elite, frac_lucky)\n",
    "\n",
    "    offsprings = crossover.get_offspring(pool, choices_df, blocks, n_genes, multipliers)\n",
    "\n",
    "    genes = offsprings\n",
    "\n",
    "\n",
    "# print(np.mean([genes[g][1] for g in genes]))\n",
    "\n",
    "best = genes[select_mating_pool.get_best(genes)][0]\n",
    "\n",
    "\n",
    "for block in blocks:\n",
    "    first = 0\n",
    "    second = 0\n",
    "    third = 0\n",
    "        \n",
    "    first = (choices_df[f'{block}_first_choice'] == best[f'{block}']).sum()\n",
    "\n",
    "    for c, g, s in zip(choices_df[f'{block}_second_choices'], best[f'{block}'], choices_df['total_score']):\n",
    "        if g in c:\n",
    "            second += 1\n",
    "\n",
    "    for c, g, s in zip(choices_df[f'{block}_third_choices'], best[f'{block}'], choices_df['total_score']):\n",
    "        if g in c:\n",
    "            third += 1\n",
    "\n",
    "    print(block)\n",
    "    print(f'{first = }, {second = }, {third = }, total = {first+second+third}')"
   ]
  },
  {
   "cell_type": "code",
   "execution_count": null,
   "metadata": {},
   "outputs": [],
   "source": [
    "pickle.dump(choices_df, open('pickles/choices.pkl', 'wb'))\n",
    "pickle.dump(genes, open('pickles/genes.pkl', 'wb'))\n",
    "pickle.dump(best, open('pickles/best.pkl', 'wb'))"
   ]
  },
  {
   "cell_type": "code",
   "execution_count": 4,
   "metadata": {},
   "outputs": [],
   "source": [
    "for block in blocks:\n",
    "    l = [[o] * n for o, n in blocks[block].items()]\n"
   ]
  },
  {
   "cell_type": "code",
   "execution_count": 5,
   "metadata": {},
   "outputs": [
    {
     "name": "stdout",
     "output_type": "stream",
     "text": [
      "5.8 µs ± 46.3 ns per loop (mean ± std. dev. of 7 runs, 100,000 loops each)\n"
     ]
    }
   ],
   "source": [
    "%%timeit\n",
    "[item for sublist in l for item in sublist]"
   ]
  },
  {
   "cell_type": "code",
   "execution_count": 6,
   "metadata": {},
   "outputs": [
    {
     "name": "stdout",
     "output_type": "stream",
     "text": [
      "2.75 µs ± 24.1 ns per loop (mean ± std. dev. of 7 runs, 100,000 loops each)\n"
     ]
    }
   ],
   "source": [
    "%%timeit\n",
    "list(chain(*l))"
   ]
  },
  {
   "cell_type": "code",
   "execution_count": 56,
   "metadata": {},
   "outputs": [
    {
     "data": {
      "text/plain": [
       "32"
      ]
     },
     "execution_count": 56,
     "metadata": {},
     "output_type": "execute_result"
    }
   ],
   "source": [
    "counter = [0, 0, 0]\n",
    "fitness = 0\n",
    "\n",
    "filter_col = [col for col in choices_df if col.startswith(f'uni1_first')]\n",
    "\n",
    "choices_df[filter_col].isin(gene_df['uni1']).any(axis=1).sum()\n",
    "\n",
    "\n"
   ]
  },
  {
   "cell_type": "code",
   "execution_count": 57,
   "metadata": {},
   "outputs": [],
   "source": [
    "first_choice = choices_df['uni1_first_0']\n",
    "gene_expression = gene_df['uni1']\n",
    "first_list = first_choice.tolist()\n",
    "gene_list = gene_expression.tolist()"
   ]
  },
  {
   "cell_type": "code",
   "execution_count": 58,
   "metadata": {},
   "outputs": [
    {
     "name": "stdout",
     "output_type": "stream",
     "text": [
      "0 Biologie (ETH)\n",
      "1 Biologie (ETH)\n",
      "2 Biologie (ETH)\n",
      "5 Autonome Agile Drohnen (UZH)\n",
      "9 Umweltingenieurwissenschaften (ETH)\n",
      "18 Autonome Agile Drohnen (UZH)\n",
      "26 Biologie (ETH)\n",
      "37 Raumbezogene Ingenieurwissenschaften (ETH)\n",
      "52 Raumbezogene Ingenieurwissenschaften (ETH)\n",
      "60 Autonome Agile Drohnen (UZH)\n",
      "65 Biologie (ETH)\n",
      "67 Biologie (ETH)\n",
      "77 Architektur (ETH)\n",
      "78 Biologie (ETH)\n",
      "81 Einblick in aktuelle Forschung am Physik-Institut (UZH)\n",
      "86 Autonome Agile Drohnen (UZH)\n",
      "92 Umweltingenieurwissenschaften (ETH)\n",
      "98 Architektur (ETH)\n",
      "100 Biologie (ETH)\n",
      "119 Biologie (ETH)\n",
      "122 Biologie (ETH)\n",
      "123 Autonome Agile Drohnen (UZH)\n",
      "125 Autonome Agile Drohnen (UZH)\n",
      "129 Biologie (ETH)\n",
      "137 Architektur (ETH)\n",
      "150 Autonome Agile Drohnen (UZH)\n",
      "152 Architektur (ETH)\n",
      "160 Autonome Agile Drohnen (UZH)\n",
      "163 Einblick in aktuelle Forschung am Physik-Institut (UZH)\n",
      "169 Autonome Agile Drohnen (UZH)\n",
      "171 Architektur (ETH)\n",
      "174 Raumbezogene Ingenieurwissenschaften (ETH)\n",
      "32\n"
     ]
    }
   ],
   "source": [
    "counter = 0\n",
    "for i, item in enumerate(first_list):\n",
    "    if item == gene_list[i]:\n",
    "        print(i, item)\n",
    "        counter += 1\n",
    "\n",
    "print(counter)"
   ]
  },
  {
   "cell_type": "code",
   "execution_count": 54,
   "metadata": {},
   "outputs": [
    {
     "data": {
      "text/plain": [
       "Hocoma    1\n",
       "Name: companies_second_12, dtype: int64"
      ]
     },
     "execution_count": 54,
     "metadata": {},
     "output_type": "execute_result"
    }
   ],
   "source": [
    "first_choice.value_counts()"
   ]
  },
  {
   "cell_type": "code",
   "execution_count": 23,
   "metadata": {},
   "outputs": [
    {
     "data": {
      "text/plain": [
       "'Universitätsspital Zürich'"
      ]
     },
     "execution_count": 23,
     "metadata": {},
     "output_type": "execute_result"
    }
   ],
   "source": [
    "gene_expression.iloc[16]"
   ]
  },
  {
   "cell_type": "code",
   "execution_count": null,
   "metadata": {},
   "outputs": [],
   "source": []
  }
 ],
 "metadata": {
  "kernelspec": {
   "display_name": "playground",
   "language": "python",
   "name": "python3"
  },
  "language_info": {
   "codemirror_mode": {
    "name": "ipython",
    "version": 3
   },
   "file_extension": ".py",
   "mimetype": "text/x-python",
   "name": "python",
   "nbconvert_exporter": "python",
   "pygments_lexer": "ipython3",
   "version": "3.10.9"
  },
  "vscode": {
   "interpreter": {
    "hash": "aac0515942b31977d27ce5101c9a74ea7d23555149f801c587545665ec644b42"
   }
  }
 },
 "nbformat": 4,
 "nbformat_minor": 2
}
