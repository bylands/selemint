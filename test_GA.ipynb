{
 "cells": [
  {
   "cell_type": "code",
   "execution_count": null,
   "metadata": {},
   "outputs": [],
   "source": [
    "import pandas as pd\n",
    "import numpy as np\n",
    "from numpy.random import default_rng\n",
    "import random\n",
    "from itertools import chain\n",
    "import pickle\n",
    "\n",
    "import choices\n",
    "import create_gene\n",
    "import calculate_fitness\n",
    "import select_mating_pool\n",
    "import crossover\n",
    "\n",
    "from tqdm import tqdm\n",
    "\n",
    "rng = default_rng()"
   ]
  },
  {
   "cell_type": "code",
   "execution_count": null,
   "metadata": {},
   "outputs": [],
   "source": [
    "# create test subjects and test populations\n",
    "\n",
    "n_genes = 500 # number of genes (population)\n",
    "\n",
    "companies = {'Zeix': 20, 'SCS Supercomputing Systems': 20, 'Kyburz': 20, 'Siemens Mobility AG': 20, 'Varian': 20, \n",
    "             'MAN Energy Solutions':20, 'Universitätsspital Zürich': 20, 'Acht Grad Ost': 20, 'Weidmann': 20, \n",
    "             'True Wealth': 20, 'PartnerRe': 20, 'Sensirion': 20, 'Hocoma': 20}\n",
    "uni1 = {'Architektur (ETH)': 30, 'Biologie (ETH)': 60, 'Raumbezogene Ingenieurwissenschaften (ETH)': 16, \n",
    "        'Umweltingenieurwissenschaften (ETH)': 16, 'Autonome Agile Drohnen (UZH)': 40, \n",
    "        'Biodiversität in Zeit und Raum (UZH)': 24, 'Einblick in aktuelle Forschung am Physik-Institut (UZH)': 20}\n",
    "uni2 = {'Chemie (ETH)': 25, 'Materialwissenschaft (ETH)': 20, 'Medizin studieren an der ETH': 50, \n",
    "        'Pharmazeutische Wissenschaften (ETH)': 24, 'Physik (ETH)': 20, 'Illuminating the Chemistry of Life (UZH)': 30, \n",
    "        'Was ist ein Programm? (UZH)': 20}\n",
    "uni3 = {'Aktuelle Forschung am CERN (UZH)': 30, 'Hyperwürfel (UZH)': 20, 'Krebsforschung (UZH)': 20, \n",
    "        'Informatik (ETH)': 16, 'Informationstechnologie und Elektrotechnik (ETH)': 30, \n",
    "        'Maschineningenieurwissenschaften (ETH)': 40, 'Mathematik (ETH)': 30}\n",
    "workshops = {'Oberflächen und Farben': 20, 'Fourier-Reihen': 20, 'Datenexploration': 20, \n",
    "             'Astrophysik, Planetologie und Raumfahrt': 20, 'Molekulare Schalter – eine on/off-Beziehung': 12, \n",
    "             \"Let's Arduino\": 12, 'Die Hoffnung ist erneuerbar': 20, \"Swiss Young Physicists' Tournament\": 20, \n",
    "             'Von Big Data und Künstlicher Intelligenz zur Umweltinformatik': 16, \n",
    "             'Woher kommst du wirklich? Frag deine DNA!': 20, 'Astronomie': 20, \n",
    "             'Entsorgung, Recycling und Abwasserreinigung in Zürich': 16, \n",
    "             'Praktische Molekulargenetik: Wolbachia – auf der Suche nach Bakterien-DNA in selbstgefangenen Insekt': 14, \n",
    "             'Energiespeicherung – Vom Akku bis zum Pump-Speicherstausee': 20}\n",
    "\n",
    "blocks = {'companies': companies, 'uni1': uni1, 'uni2': uni2, 'uni3': uni3, 'workshops': workshops}\n",
    "block_names = [block for block in blocks.keys()]\n",
    "\n",
    "multipliers = [50, 2, 1]\n",
    "counter = [0, 0, 0]\n",
    "\n",
    "priorities_df = pd.read_json('priorities.json')\n",
    "n_people = len(priorities_df)\n",
    "\n",
    "choices_df = choices.get_choices(blocks, priorities_df)\n",
    "\n",
    "print('Generating initial population:')\n",
    "genes_init = {}\n",
    "\n",
    "for i in tqdm(range(n_genes)):\n",
    "    id = f'GID{i:05}'\n",
    "\n",
    "    gene_df = create_gene.get_gene(blocks, n_people)\n",
    "    fitness = calculate_fitness.calc_fitness(choices_df, gene_df, blocks, block_names, multipliers)\n",
    "\n",
    "    genes_init[id] = [gene_df, fitness]\n",
    "\n",
    "top_ten = select_mating_pool.get_best(genes_init, 10)\n",
    "print(np.mean([genes_init[g][1] for g in top_ten]))\n"
   ]
  },
  {
   "cell_type": "code",
   "execution_count": null,
   "metadata": {},
   "outputs": [],
   "source": [
    "\n",
    "n_iterations_list = [10]\n",
    "n_genes_list = [100]\n",
    "\n",
    "frac_elite = 0.1\n",
    "frac_lucky = 0.01\n",
    "\n",
    "for n_genes in n_genes_list:\n",
    "\n",
    "    genes = dict(list(genes_init.items())[:n_genes])\n",
    "    \n",
    "    top_ten = select_mating_pool.get_best(genes, 1)\n",
    "    initial_score = np.mean([genes[g][1] for g in top_ten])\n",
    "    print(f'{n_genes} genes, initial score = {initial_score}\\n')\n",
    "\n",
    "    print('Optimising population:\\n')\n",
    "\n",
    "    for n_iterations in n_iterations_list:\n",
    "\n",
    "        for i in tqdm(range(n_iterations)):\n",
    "            pool = select_mating_pool.get_mating_pool(genes, frac_elite, frac_lucky)\n",
    "\n",
    "            offsprings = crossover.get_offspring(pool, choices_df, blocks, n_genes, multipliers)\n",
    "\n",
    "            genes = offsprings\n",
    "\n",
    "\n",
    "        top_ten = select_mating_pool.get_best(genes, 1)\n",
    "        score = np.mean([genes[g][1] for g in top_ten])\n",
    "        print(f'{n_genes} genes, {n_iterations} iterations, score = {score} ({score/initial_score:.2f}x)')\n",
    "\n",
    "        best = genes[top_ten[0]][0]\n",
    "\n",
    "        for block in blocks:\n",
    "            first = 0\n",
    "            second = 0\n",
    "            third = 0\n",
    "\n",
    "            print(f'\\n{block:<12}:', end=' ')\n",
    "\n",
    "            for level in ['first', 'second', 'third']:\n",
    "\n",
    "                filter_col = [col for col in choices_df if col.startswith(f'{block}_{level}')]\n",
    "                number = choices_df[filter_col].isin(best[block]).any(axis=1).sum()\n",
    "                print(f'{level} = {number}', end=' ')"
   ]
  },
  {
   "cell_type": "code",
   "execution_count": null,
   "metadata": {},
   "outputs": [],
   "source": [
    "counts[block]"
   ]
  },
  {
   "cell_type": "code",
   "execution_count": null,
   "metadata": {},
   "outputs": [],
   "source": []
  },
  {
   "cell_type": "code",
   "execution_count": null,
   "metadata": {},
   "outputs": [],
   "source": [
    "block = 'companies'\n",
    "\n",
    "counts = pd.DataFrame(gene_df[block].value_counts().sort_index())\n",
    "max_counts = pd.DataFrame({block: blocks[block].values()}, index=blocks[block].keys()).sort_index()\n",
    "\n",
    "counts[block] > max_counts[block]"
   ]
  },
  {
   "cell_type": "code",
   "execution_count": null,
   "metadata": {},
   "outputs": [],
   "source": [
    "random_value = rng.random(size=n_people)\n",
    "rate = 0.02\n",
    "options = list(blocks['companies'].keys())\n",
    "block = 'companies'\n",
    "off_fd = pool['GID00037'][0]\n",
    "off_fd['companies'] = (np.where(random_value < rate, random.choice(options), off_fd[f'{block}']))\n",
    "\n",
    "fitness = calculate_fitness.calc_fitness(choices_df, off_fd, blocks, block_names, multipliers)\n",
    "fitness"
   ]
  },
  {
   "cell_type": "code",
   "execution_count": null,
   "metadata": {},
   "outputs": [],
   "source": [
    "off_fd['companies']"
   ]
  },
  {
   "cell_type": "code",
   "execution_count": null,
   "metadata": {},
   "outputs": [],
   "source": []
  }
 ],
 "metadata": {
  "kernelspec": {
   "display_name": "playground",
   "language": "python",
   "name": "python3"
  },
  "language_info": {
   "codemirror_mode": {
    "name": "ipython",
    "version": 3
   },
   "file_extension": ".py",
   "mimetype": "text/x-python",
   "name": "python",
   "nbconvert_exporter": "python",
   "pygments_lexer": "ipython3",
   "version": "3.10.9"
  },
  "vscode": {
   "interpreter": {
    "hash": "aac0515942b31977d27ce5101c9a74ea7d23555149f801c587545665ec644b42"
   }
  }
 },
 "nbformat": 4,
 "nbformat_minor": 2
}
